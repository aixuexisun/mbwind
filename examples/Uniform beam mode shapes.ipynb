{
 "metadata": {
  "name": "Uniform beam mode shapes"
 },
 "nbformat": 3,
 "nbformat_minor": 0,
 "worksheets": [
  {
   "cells": [
    {
     "cell_type": "markdown",
     "metadata": {},
     "source": [
      "Model a simple uniform modal blade."
     ]
    },
    {
     "cell_type": "code",
     "collapsed": false,
     "input": [
      "%load_ext autoreload\n",
      "%autoreload 2\n",
      "%pylab inline\n",
      "from numpy.testing import assert_array_equal, assert_array_almost_equal\n",
      "from mbwind import *\n",
      "from mbwind.modes import *"
     ],
     "language": "python",
     "metadata": {},
     "outputs": [
      {
       "output_type": "stream",
       "stream": "stdout",
       "text": [
        "The autoreload extension is already loaded. To reload it, use:\n",
        "  %reload_ext autoreload\n",
        "\n",
        "Welcome to pylab, a matplotlib-based Python environment [backend: module://IPython.kernel.zmq.pylab.backend_inline].\n",
        "For more information, type 'help(pylab)'.\n"
       ]
      }
     ],
     "prompt_number": 4
    },
    {
     "cell_type": "code",
     "collapsed": false,
     "input": [
      "x = arange(0, 1.01, 0.01)\n",
      "EIy = 7800.0\n",
      "EIz = 15600.0\n"
     ],
     "language": "python",
     "metadata": {},
     "outputs": []
    },
    {
     "cell_type": "code",
     "collapsed": false,
     "input": [
      "modes = ModalRepresentation(x, shapes, zeros((len(x), 3, 4)), density, freqs)\n",
      "\n",
      "modes = load_modes_from_Bladed('demo_a_simplified.prj')"
     ],
     "language": "python",
     "metadata": {},
     "outputs": [
      {
       "ename": "NameError",
       "evalue": "name 'Modal' is not defined",
       "output_type": "pyerr",
       "traceback": [
        "\u001b[1;31m---------------------------------------------------------------------------\u001b[0m\n\u001b[1;31mNameError\u001b[0m                                 Traceback (most recent call last)",
        "\u001b[1;32m<ipython-input-3-5f055f02b84b>\u001b[0m in \u001b[0;36m<module>\u001b[1;34m()\u001b[0m\n\u001b[1;32m----> 1\u001b[1;33m \u001b[0mmodes\u001b[0m \u001b[1;33m=\u001b[0m \u001b[0mModal\u001b[0m\u001b[1;33m\u001b[0m\u001b[0m\n\u001b[0m\u001b[0;32m      2\u001b[0m \u001b[1;33m\u001b[0m\u001b[0m\n\u001b[0;32m      3\u001b[0m \u001b[0mmodes\u001b[0m \u001b[1;33m=\u001b[0m \u001b[0mload_modes_from_Bladed\u001b[0m\u001b[1;33m(\u001b[0m\u001b[1;34m'demo_a_simplified.prj'\u001b[0m\u001b[1;33m)\u001b[0m\u001b[1;33m\u001b[0m\u001b[0m\n",
        "\u001b[1;31mNameError\u001b[0m: name 'Modal' is not defined"
       ]
      }
     ],
     "prompt_number": 3
    },
    {
     "cell_type": "markdown",
     "metadata": {},
     "source": [
      "Check the mass totals etc agree with those reported by Bladed:"
     ]
    },
    {
     "cell_type": "code",
     "collapsed": false,
     "input": [
      "assert_array_equal(modes.mass, 8000)\n",
      "assert_array_equal(modes.I0, [160000, 0, 0])\n",
      "assert_array_almost_equal(modes.ss_J0, diag([0, 4266667, 4266667]), decimal=0)"
     ],
     "language": "python",
     "metadata": {},
     "outputs": [],
     "prompt_number": 44
    },
    {
     "cell_type": "markdown",
     "metadata": {},
     "source": [
      "Check the modes are as expected:"
     ]
    },
    {
     "cell_type": "code",
     "collapsed": false,
     "input": [
      "assert_array_almost_equal(modes.freqs/2/pi, [1.867, 1.867, 9.5, 9.5], decimal=3)\n",
      "assert_array_almost_equal(modes.damping, 0.01)"
     ],
     "language": "python",
     "metadata": {},
     "outputs": [],
     "prompt_number": 32
    },
    {
     "cell_type": "markdown",
     "metadata": {},
     "source": [
      "The lumped-mass matrix:"
     ]
    },
    {
     "cell_type": "code",
     "collapsed": false,
     "input": [
      "matshow(modes.M);"
     ],
     "language": "python",
     "metadata": {},
     "outputs": [
      {
       "output_type": "display_data",
       "png": "[encoded data removed]",
       "text": [
        "<matplotlib.figure.Figure at 0x4601210>"
       ]
      }
     ],
     "prompt_number": 39
    },
    {
     "cell_type": "heading",
     "level": 3,
     "metadata": {},
     "source": [
      "Mode shapes"
     ]
    },
    {
     "cell_type": "code",
     "collapsed": false,
     "input": [
      "plot(modes.X0[:,0], modes.shapes[:,1,[0,2]]);"
     ],
     "language": "python",
     "metadata": {},
     "outputs": [
      {
       "output_type": "display_data",
       "png": "[encoded data removed]",
       "text": [
        "<matplotlib.figure.Figure at 0x4681450>"
       ]
      }
     ],
     "prompt_number": 58
    },
    {
     "cell_type": "heading",
     "level": 3,
     "metadata": {},
     "source": [
      "Shape integrals"
     ]
    },
    {
     "cell_type": "markdown",
     "metadata": {},
     "source": [
      "The equations of motion using the modal representation include integrals\n",
      "over the deformed mass distribution, which is\n",
      "$$\n",
      "\\boldsymbol{X}(\\boldsymbol{X}_0) = \\boldsymbol{X}_0 +\n",
      "    \\boldsymbol{U}(\\boldsymbol{X}_0) \\boldsymbol{\\epsilon}\n",
      "$$\n",
      "where $\\boldsymbol{X}_0$ is an undeflected position where the density\n",
      "and modeshapes are defined.\n",
      "\n",
      "Firstly, the mass, moment of mass and inertia tensor are required. These\n",
      "are integrals over the undeflected mass distribution only:\n",
      "$$\n",
      "m = \\int dm \\\\ \n",
      "\\boldsymbol{I}_0 = \\int \\boldsymbol{X}_0 dm \\\\ \n",
      "\\boldsymbol{J} = - \\int \\boldsymbol{\\tilde{X}}_0 \\boldsymbol{\\tilde{X}}_0 dm \\\\\n",
      "$$\n",
      "\n",
      "The velocity and acceleration due to changes in modal amplitude depend only\n",
      "on the mode shapes, and thus require the first shape integral,\n",
      "$$\n",
      "S_{ip} = \\int U_{ip} dm\n",
      "$$\n",
      "\n",
      "The second shape function integral has two parts, due to the deflection and rotation of the cross-sections:\n",
      "$$\n",
      "S_{ijp}^U = \\int X_{0_j} U_{ip} dm \\\\\n",
      "S_{ijp}^V = \\epsilon_{ilm} \\int K_{jm} V_{lp} ds\n",
      "$$\n",
      "\n",
      "The third shape integral also has two parts:\n",
      "$$\n",
      "S_{ijpr}^U = \\int U_{ip} U_{jr} dm \\\\\n",
      "S_{ijpr}^U = \\epsilon_{ikm}\\epsilon_{jln} \\int K_{kl} V_{mp} V_{nr} \\rho ds\n",
      "$$\n",
      "\n",
      "Strictly fewer integrals are needed, see for example \"Dynamics of Multibody\n",
      "Systems\" ch. 5 by A. Shabana.\n",
      "\n",
      "These integrals are evaluated using the trapezium rule using the provided\n",
      "density distribution and mode shapes. Because the element is 1-dimensional,\n",
      "the inertia of the cross-sections is not included. An extra inertia\n",
      "distribution can be provided which is added to the calculation of the\n",
      "inertia tensor.\n",
      "\n",
      "This probably neglects the change in this added inertia with deflection,\n",
      "but that is probably ok.\n",
      "\n",
      "Because the element is one-dimensional, the above formulae can be written\n",
      "explicitly as\n",
      "$$\n",
      "\\boldsymbol{X}(s) = \\begin{bmatrix} s \\\\ 0 \\\\ 0 \\end{bmatrix}\n",
      "        + \\boldsymbol{U}(\\boldsymbol{X}_0) \\boldsymbol{\\epsilon} \\\\\n",
      "I_0 = \\int s \\rho(s) \\, ds \\\\\n",
      "\\boldsymbol{J} = \\begin{bmatrix} 0 & 0 & 0 \\\\ 0 & J_0 & 0 \\\\ 0 & 0 & J_0 \\end{bmatrix}\n",
      "\\mbox{ where } J_0 = \\int s^2  \\rho(s) \\, ds \\\\\n",
      "S_{ip} = \\int U_{ip}(s) \\rho(s) \\, ds \\\\\n",
      "\\boldsymbol{T}_i = \\int \\begin{bmatrix} 0 & 0 & 0 \\\\ 0 & 0 & s \\\\ 0 & -s & 0 \\end{bmatrix}\n",
      "    \\boldsymbol{\\tilde{U}}_i(s) \\rho(s) \\, ds \\\\\n",
      "\\boldsymbol{\\tilde{S}}_{ij}\n",
      "  = - \\int \\boldsymbol{\\tilde{U}}_i(s) \\boldsymbol{\\tilde{U}}_j(s)\n",
      "        \\rho(s) \\, ds \n",
      "$$"
     ]
    },
    {
     "cell_type": "markdown",
     "metadata": {},
     "source": [
      "The first shape integral is the mass-weighted sum of each mode:"
     ]
    },
    {
     "cell_type": "code",
     "collapsed": false,
     "input": [
      "modes.S"
     ],
     "language": "python",
     "metadata": {},
     "outputs": [
      {
       "output_type": "pyout",
       "prompt_number": 42,
       "text": [
        "array([[    0.        ,     0.        ,     0.        ,     0.        ],\n",
        "       [ 2898.132917  ,     0.        , -1436.21194925,     0.        ],\n",
        "       [    0.        ,  2898.13339775,     0.        , -1436.213043  ]])"
       ]
      }
     ],
     "prompt_number": 42
    },
    {
     "cell_type": "markdown",
     "metadata": {},
     "source": [
      "The second integral is weighted additionally by x. Since the beam is straight only the first column is non zero."
     ]
    },
    {
     "cell_type": "code",
     "collapsed": false,
     "input": [
      "for i in range(modes.shapes.shape[-1]):\n",
      "    print 'Mode %d:' % (i + 1)\n",
      "    print modes.S1[:, :, i]\n",
      "    print"
     ],
     "language": "python",
     "metadata": {},
     "outputs": [
      {
       "output_type": "stream",
       "stream": "stdout",
       "text": [
        "Mode 1:\n",
        "[[     0.              0.              0.        ]\n",
        " [ 85762.53370438      0.              0.        ]\n",
        " [     0.              0.              0.        ]]\n",
        "\n",
        "Mode 2:\n",
        "[[     0.              0.              0.        ]\n",
        " [     0.              0.              0.        ]\n",
        " [ 85762.54512156      0.              0.        ]]\n",
        "\n",
        "Mode 3:\n",
        "[[     0.              0.              0.        ]\n",
        " [-14871.08108969      0.              0.        ]\n",
        " [     0.              0.              0.        ]]\n",
        "\n",
        "Mode 4:\n",
        "[[     0.              0.              0.        ]\n",
        " [     0.              0.              0.        ]\n",
        " [-14871.08894906      0.              0.        ]]\n",
        "\n"
       ]
      }
     ],
     "prompt_number": 80
    },
    {
     "cell_type": "markdown",
     "metadata": {},
     "source": [
      "The third integral is the mass-weighted sum of two modes (showing only the non zero bits)"
     ]
    },
    {
     "cell_type": "code",
     "collapsed": false,
     "input": [
      "modes.S2[1, 1, ::2, ::2]"
     ],
     "language": "python",
     "metadata": {},
     "outputs": [
      {
       "output_type": "pyout",
       "prompt_number": 79,
       "text": [
        "array([[ 1805.24867507,     4.90175453],\n",
        "       [    4.90175453,  1448.18032041]])"
       ]
      }
     ],
     "prompt_number": 79
    },
    {
     "cell_type": "markdown",
     "metadata": {},
     "source": [
      "Together with the modal stiffness the diagonal terms should give the natural frequency:"
     ]
    },
    {
     "cell_type": "code",
     "collapsed": false,
     "input": [
      "f1 = sqrt(modes.stiffness[0,0] / modes.S2[1,1,0,0]) / 2/pi\n",
      "f2 = sqrt(modes.stiffness[2,2] / modes.S2[1,1,2,2]) / 2/pi\n",
      "f1, f2"
     ],
     "language": "python",
     "metadata": {},
     "outputs": [
      {
       "output_type": "pyout",
       "prompt_number": 28,
       "text": [
        "(1.8864017800233552, 9.6525136551090824)"
       ]
      }
     ],
     "prompt_number": 28
    },
    {
     "cell_type": "markdown",
     "metadata": {},
     "source": [
      "Close, but not an exact match.\n",
      "\n",
      "In this example the beam is straight and has no torsional inertia, so the rotation integrals are all zero:"
     ]
    },
    {
     "cell_type": "code",
     "collapsed": false,
     "input": [
      "assert all(modes.T1 == 0) and all(modes.T2 == 0)"
     ],
     "language": "python",
     "metadata": {},
     "outputs": [],
     "prompt_number": 63
    },
    {
     "cell_type": "code",
     "collapsed": false,
     "input": [],
     "language": "python",
     "metadata": {},
     "outputs": []
    }
   ],
   "metadata": {}
  }
 ]
}