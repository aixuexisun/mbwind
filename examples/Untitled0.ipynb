{
 "metadata": {
  "name": "Untitled0"
 },
 "nbformat": 3,
 "nbformat_minor": 0,
 "worksheets": [
  {
   "cells": [
    {
     "cell_type": "code",
     "collapsed": false,
     "input": [
      "%load_ext autoreload\n",
      "%autoreload 2"
     ],
     "language": "python",
     "metadata": {},
     "outputs": [],
     "prompt_number": 1
    },
    {
     "cell_type": "code",
     "collapsed": false,
     "input": [
      "%pylab inline\n",
      "from __future__ import division\n",
      "import numpy as np\n",
      "np.set_printoptions(linewidth=150, precision=2, suppress=True)\n",
      "\n",
      "import mbwind\n",
      "from mbwind import (System, RigidBody, Hinge, Integrator, ReducedSystem)\n",
      "from mbwind.elements.modal import ModalElement\n",
      "from mbwind.blade import Tower\n",
      "mbwind.constants['gravity'] = 0"
     ],
     "language": "python",
     "metadata": {},
     "outputs": [
      {
       "output_type": "stream",
       "stream": "stdout",
       "text": [
        "\n",
        "Welcome to pylab, a matplotlib-based Python environment [backend: module://IPython.kernel.zmq.pylab.backend_inline].\n",
        "For more information, type 'help(pylab)'.\n"
       ]
      }
     ],
     "prompt_number": 2
    },
    {
     "cell_type": "code",
     "collapsed": false,
     "input": [
      "towerdef = Tower('demo_a_uniform_blade.prj')\n",
      "modes = towerdef.modal_rep()"
     ],
     "language": "python",
     "metadata": {},
     "outputs": [],
     "prompt_number": 3
    },
    {
     "cell_type": "markdown",
     "metadata": {},
     "source": [
      "Build the model"
     ]
    },
    {
     "cell_type": "code",
     "collapsed": false,
     "input": [
      "rna_mass = 110e3\n",
      "rna_FA_inertia = 7759969\n",
      "rna_SS_inertia = 14049500\n",
      "rna_yaw_inertia = 7759969"
     ],
     "language": "python",
     "metadata": {},
     "outputs": [],
     "prompt_number": 4
    },
    {
     "cell_type": "code",
     "collapsed": false,
     "input": [
      "tower1 = ModalElement('tower', modes, distal=True)\n",
      "tower2 = ModalElement('tower', modes, distal=True, extra_modal_mass=rna_mass)"
     ],
     "language": "python",
     "metadata": {},
     "outputs": [
      {
       "output_type": "stream",
       "stream": "stderr",
       "text": [
        "/phd/src/mbwind/mbwind/elements/modal.py:68: RuntimeWarning: invalid value encountered in divide\n",
        "  self.damping = 2 * self.modes.damping * self.stiffness / damping_freqs\n"
       ]
      }
     ],
     "prompt_number": 5
    },
    {
     "cell_type": "code",
     "collapsed": false,
     "input": [
      "(tower1.stiffness / 1e3).astype(int)"
     ],
     "language": "python",
     "metadata": {},
     "outputs": [
      {
       "output_type": "pyout",
       "prompt_number": 11,
       "text": [
        "array([     0,    110,    113,      0, 421595, 698242,  45942,  45942])"
       ]
      }
     ],
     "prompt_number": 11
    },
    {
     "cell_type": "code",
     "collapsed": false,
     "input": [
      "tower2.modes.freqs / 2/pi"
     ],
     "language": "python",
     "metadata": {},
     "outputs": [
      {
       "output_type": "pyout",
       "prompt_number": 16,
       "text": [
        "array([ 0.  ,  0.35,  0.36,  0.  ,  2.28,  2.93,  6.99,  6.99])"
       ]
      }
     ],
     "prompt_number": 16
    },
    {
     "cell_type": "code",
     "collapsed": false,
     "input": [
      "(tower2.stiffness / 1e3).astype(int)"
     ],
     "language": "python",
     "metadata": {},
     "outputs": [
      {
       "output_type": "pyout",
       "prompt_number": 12,
       "text": [
        "array([     0,    653,    672,      0, 421595, 698242,  45942,  45942])"
       ]
      }
     ],
     "prompt_number": 12
    },
    {
     "cell_type": "code",
     "collapsed": false,
     "input": [
      "tower = ModalElement('tower', modes, distal=True)\n",
      "rna = RigidBody('rna', rna_mass,\n",
      "                inertia=np.diag([rna_yaw_inertia, rna_FA_inertia, rna_SS_inertia]))\n",
      "tower.add_leaf(rna)\n",
      "system = System(tower)\n",
      "system_no_top = System(ModalElement('tower', modes, distal=True))\n",
      "\n",
      "system.prescribe(tower, vel=0, part=[0, 3])\n",
      "system_no_top.prescribe(system.first_element, vel=0, part=[0, 3])"
     ],
     "language": "python",
     "metadata": {},
     "outputs": []
    },
    {
     "cell_type": "code",
     "collapsed": false,
     "input": [
      "system.print_info()"
     ],
     "language": "python",
     "metadata": {},
     "outputs": [
      {
       "output_type": "stream",
       "stream": "stdout",
       "text": [
        "System:\n",
        "\n",
        "<ModalElement \"tower\">:\n",
        "    prox node: ground\n",
        "    strains: 8 (tower-strains)\n",
        "    constraints: 6 (tower-constraints)\n",
        "    distal nodes: node-0\n",
        "\n",
        "<RigidBody \"rna\">:\n",
        "    prox node: node-0\n",
        "\n"
       ]
      }
     ],
     "prompt_number": 18
    },
    {
     "cell_type": "code",
     "collapsed": false,
     "input": [
      "system.print_states()"
     ],
     "language": "python",
     "metadata": {},
     "outputs": [
      {
       "output_type": "stream",
       "stream": "stdout",
       "text": [
        "      Element        Type           ID             Prescribed\n",
        "-------------------------------------------------------------\n",
        " 0-5  None           ground         ground                * \n",
        " 6-11 tower          constraint     tower-constraints       \n",
        "12-19 tower          strain         tower-strains        (*)\n",
        "20-25 tower          node           node-0                  \n"
       ]
      }
     ],
     "prompt_number": 19
    },
    {
     "cell_type": "markdown",
     "metadata": {},
     "source": [
      "Reduced matrices:"
     ]
    },
    {
     "cell_type": "code",
     "collapsed": false,
     "input": [
      "system.update_kinematics()\n",
      "rsys = ReducedSystem(system)\n",
      "system_no_top.update_kinematics()\n",
      "rsys_no_top = ReducedSystem(system_no_top)"
     ],
     "language": "python",
     "metadata": {},
     "outputs": [],
     "prompt_number": 59
    },
    {
     "cell_type": "code",
     "collapsed": false,
     "input": [
      "rsys.M"
     ],
     "language": "python",
     "metadata": {},
     "outputs": [
      {
       "output_type": "pyout",
       "prompt_number": 60,
       "text": [
        "array([[   132285.81,         0.  ,         0.  ,   -186485.26,     15694.4 ,         0.  ],\n",
        "       [        0.  ,    132285.81,    186485.26,         0.  ,         0.  ,    -15694.4 ],\n",
        "       [        0.  ,    186485.26,   9816766.36,         0.  ,         0.  ,   -202654.24],\n",
        "       [  -186485.26,         0.  ,         0.  ,  16106297.36,   -202654.24,         0.  ],\n",
        "       [    15694.4 ,         0.  ,         0.  ,   -202654.24,     23788.77,         0.  ],\n",
        "       [        0.  ,    -15694.4 ,   -202654.24,         0.  ,         0.  ,     23788.77]])"
       ]
      }
     ],
     "prompt_number": 60
    },
    {
     "cell_type": "code",
     "collapsed": false,
     "input": [
      "rsys_no_top.M"
     ],
     "language": "python",
     "metadata": {},
     "outputs": [
      {
       "output_type": "pyout",
       "prompt_number": 61,
       "text": [
        "array([[   22285.81,        0.  ,        0.  ,  -186485.26,    15694.4 ,        0.  ],\n",
        "       [       0.  ,    22285.81,   186485.26,        0.  ,        0.  ,   -15694.4 ],\n",
        "       [       0.  ,   186485.26,  2056797.36,        0.  ,        0.  ,  -202654.24],\n",
        "       [ -186485.26,        0.  ,        0.  ,  2056797.36,  -202654.24,        0.  ],\n",
        "       [   15694.4 ,        0.  ,        0.  ,  -202654.24,    23788.77,        0.  ],\n",
        "       [       0.  ,   -15694.4 ,  -202654.24,        0.  ,        0.  ,    23788.77]])"
       ]
      }
     ],
     "prompt_number": 61
    },
    {
     "cell_type": "markdown",
     "metadata": {},
     "source": [
      "The dofs of the linearised system are: 2x transverse deflection, 2x transverse rotation, 2x normal modes"
     ]
    },
    {
     "cell_type": "code",
     "collapsed": false,
     "input": [
      "from mbwind.linearisation import LinearisedSystem\n",
      "system.update_kinematics()\n",
      "lsys = LinearisedSystem.from_system(system)\n",
      "print lsys.M\n",
      "print lsys.K / 1e3"
     ],
     "language": "python",
     "metadata": {},
     "outputs": [
      {
       "output_type": "stream",
       "stream": "stdout",
       "text": [
        "[[   132285.81         0.           0.     -186485.26     15694.4          0.  ]\n",
        " [        0.      132285.81    186485.26         0.           0.      -15694.4 ]\n",
        " [        0.      186485.26   9816766.36         0.           0.     -202654.24]\n",
        " [  -186485.26         0.           0.    16106297.36   -202654.24         0.  ]\n",
        " [    15694.4          0.           0.     -202654.24     23788.77         0.  ]\n",
        " [        0.      -15694.4    -202654.24         0.           0.       23788.77]]\n",
        "[[    110.1        0.         0.         0.         0.         0.  ]\n",
        " [      0.       113.35       0.         0.         0.         0.  ]\n",
        " [      0.         0.    421595.1        0.         0.         0.  ]\n",
        " [      0.         0.         0.    698242.85       0.         0.  ]\n",
        " [      0.         0.         0.         0.     45942.09       0.  ]\n",
        " [      0.         0.         0.         0.         0.     45942.09]]\n"
       ]
      }
     ],
     "prompt_number": 53
    },
    {
     "cell_type": "code",
     "collapsed": false,
     "input": [
      "lsysnt = LinearisedSystem.from_system(system_no_top)\n",
      "print lsysnt.K / 1e3\n",
      "print\n",
      "print lsysnt.M"
     ],
     "language": "python",
     "metadata": {},
     "outputs": [
      {
       "output_type": "stream",
       "stream": "stdout",
       "text": [
        "[[    110.1        0.         0.         0.         0.         0.  ]\n",
        " [      0.       113.35       0.         0.         0.         0.  ]\n",
        " [      0.         0.    421595.1        0.         0.         0.  ]\n",
        " [      0.         0.         0.    698242.85       0.         0.  ]\n",
        " [      0.         0.         0.         0.     45942.09       0.  ]\n",
        " [      0.         0.         0.         0.         0.     45942.09]]\n",
        "\n",
        "[[   22285.81        0.          0.    -186485.26    15694.4         0.  ]\n",
        " [       0.      22285.81   186485.26        0.          0.     -15694.4 ]\n",
        " [       0.     186485.26  2056797.36        0.          0.    -202654.24]\n",
        " [ -186485.26        0.          0.    2056797.36  -202654.24        0.  ]\n",
        " [   15694.4         0.          0.    -202654.24    23788.77        0.  ]\n",
        " [       0.     -15694.4   -202654.24        0.          0.      23788.77]]\n"
       ]
      }
     ],
     "prompt_number": 58
    },
    {
     "cell_type": "markdown",
     "metadata": {},
     "source": [
      "This is off by some signs (and slightly different numerically) but basically agrees with the mass matrix found by [calculating beam modes from scratch](../examples/Beam modes.ipynb). **Except that didn't find the same rotation-translation coupling as I have here**.\n",
      "\n",
      "The stiffness matrix however is completely different for the attachment modes (the normal modes agree)."
     ]
    },
    {
     "cell_type": "code",
     "collapsed": false,
     "input": [
      "tower.stiffness / 1e3"
     ],
     "language": "python",
     "metadata": {},
     "outputs": [
      {
       "output_type": "pyout",
       "prompt_number": 79,
       "text": [
        "array([      0.  ,     110.1 ,     113.35,       0.  ,  421595.1 ,  698242.85,   45942.09,   45942.09])"
       ]
      }
     ],
     "prompt_number": 79
    },
    {
     "cell_type": "code",
     "collapsed": false,
     "input": [
      "sqrt(diag(lsys.K[4:, 4:]) / diag(lsys.M[4:, 4:])) / 2 / pi"
     ],
     "language": "python",
     "metadata": {},
     "outputs": [
      {
       "output_type": "pyout",
       "prompt_number": 40,
       "text": [
        "array([ 6.99,  6.99])"
       ]
      }
     ],
     "prompt_number": 40
    },
    {
     "cell_type": "code",
     "collapsed": false,
     "input": [
      "import scipy.linalg\n",
      "w, v = scipy.linalg.eig(lsys.K, lsys.M)\n",
      "order = argsort(w)\n",
      "f = sqrt(w[order].real) / 2/pi\n",
      "v = v[:,order]\n",
      "f"
     ],
     "language": "python",
     "metadata": {},
     "outputs": [
      {
       "output_type": "pyout",
       "prompt_number": 41,
       "text": [
        "array([ 0.15,  0.15,  1.06,  1.06,  7.66,  7.94])"
       ]
      }
     ],
     "prompt_number": 41
    },
    {
     "cell_type": "code",
     "collapsed": false,
     "input": [
      "wnt, vnt = scipy.linalg.eig(lsysnt.K, lsysnt.M)\n",
      "order = argsort(wnt)\n",
      "fnt = sqrt(wnt[order].real) / 2/pi\n",
      "vnt = vnt[:,order]\n",
      "fnt"
     ],
     "language": "python",
     "metadata": {},
     "outputs": [
      {
       "output_type": "pyout",
       "prompt_number": 42,
       "text": [
        "array([  0.35,   0.36,   4.28,   5.2 ,  23.68,  24.99])"
       ]
      }
     ],
     "prompt_number": 42
    },
    {
     "cell_type": "code",
     "collapsed": false,
     "input": [
      "v[:,5] * 1e3"
     ],
     "language": "python",
     "metadata": {},
     "outputs": [
      {
       "output_type": "pyout",
       "prompt_number": 50,
       "text": [
        "array([    0.  ,    91.55,    19.24,     0.  ,     0.  ,  1000.  ])"
       ]
      }
     ],
     "prompt_number": 50
    },
    {
     "cell_type": "code",
     "collapsed": false,
     "input": [],
     "language": "python",
     "metadata": {},
     "outputs": []
    }
   ],
   "metadata": {}
  }
 ]
}