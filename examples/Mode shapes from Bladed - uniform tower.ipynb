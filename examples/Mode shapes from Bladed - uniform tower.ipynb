{
 "metadata": {
  "name": "Mode shapes from Bladed - uniform tower"
 },
 "nbformat": 3,
 "nbformat_minor": 0,
 "worksheets": [
  {
   "cells": [
    {
     "cell_type": "code",
     "collapsed": false,
     "input": [
      "%load_ext autoreload\n",
      "%autoreload 2\n",
      "%pylab inline\n",
      "from numpy.testing import assert_array_equal, assert_array_almost_equal\n",
      "np.set_printoptions(suppress=True, precision=3, linewidth=120)\n",
      "from mbwind import *\n",
      "from mbwind.io import load_modes_from_Bladed\n",
      "from mbwind.blade import Tower"
     ],
     "language": "python",
     "metadata": {},
     "outputs": []
    },
    {
     "cell_type": "heading",
     "level": 2,
     "metadata": {},
     "source": [
      "Uniform tower"
     ]
    },
    {
     "cell_type": "markdown",
     "metadata": {},
     "source": [
      "Check the modal analysis using a simple uniform blade. The novel part here is the attachment modes."
     ]
    },
    {
     "cell_type": "code",
     "collapsed": false,
     "input": [
      "towerdef = Tower('demo_a_uniform_blade.prj')\n",
      "modes = towerdef.modal_rep()\n",
      "names = array(modes.mode_names)\n",
      "modes.mode_names"
     ],
     "language": "python",
     "metadata": {},
     "outputs": []
    },
    {
     "cell_type": "markdown",
     "metadata": {},
     "source": [
      "Check the mass totals etc agree with those reported by Bladed:"
     ]
    },
    {
     "cell_type": "code",
     "collapsed": false,
     "input": [
      "assert_array_almost_equal(modes.mass, 60000, decimal=0)\n",
      "# assert_array_equal(modes.I0, [????, 0, 0])\n",
      "# assert_array_almost_equal(modes.ss_J0, diag([0, ????, ????]), decimal=0)"
     ],
     "language": "python",
     "metadata": {},
     "outputs": []
    },
    {
     "cell_type": "markdown",
     "metadata": {},
     "source": [
      "Check the modes are as expected (as reported by Bladed):"
     ]
    },
    {
     "cell_type": "code",
     "collapsed": false,
     "input": [
      "assert_array_almost_equal(modes.freqs/2/pi, \n",
      "    [nan, 0.354, 0.359, nan, 2.279, 2.932, 6.994, 6.994], decimal=3)\n",
      "assert_array_almost_equal(modes.damping, \n",
      "    [nan, 0.005, 0.005, nan, 0.005, 0.005, 0.005, 0.005], decimal=3)"
     ],
     "language": "python",
     "metadata": {},
     "outputs": []
    },
    {
     "cell_type": "heading",
     "level": 3,
     "metadata": {},
     "source": [
      "Mode shapes"
     ]
    },
    {
     "cell_type": "code",
     "collapsed": false,
     "input": [
      "shapes = modes.shapes[:,[1,2,2,1,1,2],[1,2,4,5,6,7]]\n",
      "plot(modes.X0[:,0], shapes / abs(shapes).max(axis=0, keepdims=True));\n",
      "legend(names[[1,2,4,5,6,7]], loc=6, bbox_to_anchor=(1,0.5));"
     ],
     "language": "python",
     "metadata": {},
     "outputs": []
    },
    {
     "cell_type": "heading",
     "level": 3,
     "metadata": {},
     "source": [
      "Shape integrals"
     ]
    },
    {
     "cell_type": "markdown",
     "metadata": {},
     "source": [
      "The first shape integral is the mass-weighted sum of each mode:"
     ]
    },
    {
     "cell_type": "code",
     "collapsed": false,
     "input": [
      "modes.S"
     ],
     "language": "python",
     "metadata": {},
     "outputs": []
    },
    {
     "cell_type": "markdown",
     "metadata": {},
     "source": [
      "The second integral is weighted additionally by x. Since the beam is straight only the first column is non zero."
     ]
    },
    {
     "cell_type": "code",
     "collapsed": false,
     "input": [
      "for i in range(modes.shapes.shape[-1]):\n",
      "    print 'Mode %d:' % (i + 1)\n",
      "    print modes.S1[:, :, i]\n",
      "    print"
     ],
     "language": "python",
     "metadata": {},
     "outputs": []
    },
    {
     "cell_type": "markdown",
     "metadata": {},
     "source": [
      "The third integral is the mass-weighted sum of two modes (y- then z-component)"
     ]
    },
    {
     "cell_type": "code",
     "collapsed": false,
     "input": [
      "array([modes.S2[1, 1, :, :], modes.S2[2, 2, :, :]]) "
     ],
     "language": "python",
     "metadata": {},
     "outputs": []
    },
    {
     "cell_type": "markdown",
     "metadata": {},
     "source": [
      "The trace of this (along the xyz axes) is the modal mass matrix. This is because the 3d velocity in the kinetic energy is roughly\n",
      "$$ \\sum_{h=1}^{N_{stations}} \\sum_{i=1}^3 \\dot{x}_{hi} \\dot{x}_{hi} m_i \n",
      "= \\left( \\sum_h \\sum_i U_{ihp} U_{ihq} m_i \\right) \\dot{\\epsilon}_p \\dot{\\epsilon}_q \n",
      "= S_{hhpq} \\dot{\\epsilon}_p \\dot{\\epsilon}_q $$"
     ]
    },
    {
     "cell_type": "code",
     "collapsed": false,
     "input": [
      "Mm = modes.S2.trace()\n",
      "Mm"
     ],
     "language": "python",
     "metadata": {},
     "outputs": []
    },
    {
     "cell_type": "markdown",
     "metadata": {},
     "source": [
      "To check this, calculate the modal stiffness matrix from the distributed stiffness. In this case the stiffness is constant along the length."
     ]
    },
    {
     "cell_type": "code",
     "collapsed": false,
     "input": [
      "from mbwind.modes import BladeModalAnalysis\n",
      "bma = BladeModalAnalysis(modes.X0[:,0], modes.density, towerdef.EIy, towerdef.EIz)"
     ],
     "language": "python",
     "metadata": {},
     "outputs": []
    },
    {
     "cell_type": "code",
     "collapsed": false,
     "input": [
      "Km = bma.modal_stiffness(modes.rotations)\n",
      "Km / 1e3"
     ],
     "language": "python",
     "metadata": {},
     "outputs": []
    },
    {
     "cell_type": "markdown",
     "metadata": {},
     "source": [
      "Check the eigenfrequencies (skipping extension and torsion modes):"
     ]
    },
    {
     "cell_type": "code",
     "collapsed": false,
     "input": [
      "ix = np.ix_([1,2,4,5,6,7],[1,2,4,5,6,7])\n",
      "w, v = scipy.linalg.eig(Km[ix], Mm[ix])\n",
      "order = argsort(w)\n",
      "f = sqrt(w[order].real) / 2/pi\n",
      "v = v[:,order]\n",
      "print array(modes.mode_names)[[1,2,4,5,6,7]]\n",
      "v"
     ],
     "language": "python",
     "metadata": {},
     "outputs": []
    },
    {
     "cell_type": "code",
     "collapsed": false,
     "input": [
      "c_[f, modes.freqs[[1,2,4,5,6,7]]/2/pi]"
     ],
     "language": "python",
     "metadata": {},
     "outputs": []
    },
    {
     "cell_type": "markdown",
     "metadata": {},
     "source": [
      "In this example the beam is straight and has no torsional inertia, so the rotation integrals are all zero:"
     ]
    },
    {
     "cell_type": "code",
     "collapsed": false,
     "input": [
      "assert all(modes.T1 == 0) and all(modes.T2 == 0)"
     ],
     "language": "python",
     "metadata": {},
     "outputs": []
    },
    {
     "cell_type": "code",
     "collapsed": false,
     "input": [],
     "language": "python",
     "metadata": {},
     "outputs": []
    }
   ],
   "metadata": {}
  }
 ]
}