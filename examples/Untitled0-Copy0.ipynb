{
 "metadata": {
  "name": "Untitled0-Copy0"
 },
 "nbformat": 3,
 "nbformat_minor": 0,
 "worksheets": [
  {
   "cells": [
    {
     "cell_type": "code",
     "collapsed": false,
     "input": [
      "%load_ext autoreload\n",
      "%autoreload 2"
     ],
     "language": "python",
     "metadata": {},
     "outputs": [],
     "prompt_number": 1
    },
    {
     "cell_type": "code",
     "collapsed": false,
     "input": [
      "%pylab inline\n",
      "from __future__ import division\n",
      "import numpy as np\n",
      "np.set_printoptions(linewidth=150, precision=3, suppress=True)\n",
      "\n",
      "import mbwind\n",
      "from mbwind import (System, RigidBody, Hinge, Integrator, ReducedSystem)\n",
      "from mbwind.elements.modal import ModalElement, DistalModalElementFromScratch\n",
      "from mbwind.blade import Tower\n",
      "mbwind.constants['gravity'] = 0"
     ],
     "language": "python",
     "metadata": {},
     "outputs": [
      {
       "output_type": "stream",
       "stream": "stdout",
       "text": [
        "\n",
        "Welcome to pylab, a matplotlib-based Python environment [backend: module://IPython.kernel.zmq.pylab.backend_inline].\n",
        "For more information, type 'help(pylab)'.\n"
       ]
      }
     ],
     "prompt_number": 38
    },
    {
     "cell_type": "code",
     "collapsed": false,
     "input": [
      "#towerdef = Tower('demo_a_uniform_blade.prj')\n",
      "from mbwind.modes import ModesFromScratch\n",
      "x = arange(0, 61, 3)\n",
      "modes = ModesFromScratch(x, 1000, 1, 5e10, 5e10)"
     ],
     "language": "python",
     "metadata": {},
     "outputs": [],
     "prompt_number": 39
    },
    {
     "cell_type": "markdown",
     "metadata": {},
     "source": [
      "Build the model"
     ]
    },
    {
     "cell_type": "code",
     "collapsed": false,
     "input": [
      "rna_mass = 110e3\n",
      "rna_FA_inertia = 7759969\n",
      "rna_SS_inertia = 14049500\n",
      "rna_yaw_inertia = 7759969"
     ],
     "language": "python",
     "metadata": {},
     "outputs": [],
     "prompt_number": 40
    },
    {
     "cell_type": "code",
     "collapsed": false,
     "input": [
      "tower = DistalModalElementFromScratch('tower', modes, 3)"
     ],
     "language": "python",
     "metadata": {},
     "outputs": [],
     "prompt_number": 41
    },
    {
     "cell_type": "code",
     "collapsed": false,
     "input": [
      "(tower.K / 1e6).astype(int)"
     ],
     "language": "python",
     "metadata": {},
     "outputs": [
      {
       "output_type": "pyout",
       "prompt_number": 42,
       "text": [
        "array([[   0,    0,    0,    0,    0,    0,    0,    0,    0,    0,    0,    0,    0,    0,    0],\n",
        "       [   0,    2,    0,    0,    0,   83,    0,   -2,    0,    0,    0,   83,    0,    0,    0],\n",
        "       [   0,    0,    2,    0,  -83,    0,    0,    0,   -2,    0,  -83,    0,    0,    0,    0],\n",
        "       [   0,    0,    0,    0,    0,    0,    0,    0,    0,    0,    0,    0,    0,    0,    0],\n",
        "       [   0,    0,  -83,    0, 3333,    0,    0,    0,   83,    0, 1666,    0,    0,    0,    0],\n",
        "       [   0,   83,    0,    0,    0, 3333,    0,  -83,    0,    0,    0, 1666,    0,    0,    0],\n",
        "       [   0,    0,    0,    0,    0,    0,    0,    0,    0,    0,    0,    0,    0,    0,    0],\n",
        "       [   0,   -2,    0,    0,    0,  -83,    0,    2,    0,    0,    0,  -83,    0,    0,    0],\n",
        "       [   0,    0,   -2,    0,   83,    0,    0,    0,    2,    0,   83,    0,    0,    0,    0],\n",
        "       [   0,    0,    0,    0,    0,    0,    0,    0,    0,    0,    0,    0,    0,    0,    0],\n",
        "       [   0,    0,  -83,    0, 1666,    0,    0,    0,   83,    0, 3333,    0,    0,    0,    0],\n",
        "       [   0,   83,    0,    0,    0, 1666,    0,  -83,    0,    0,    0, 3333,    0,    0,    0],\n",
        "       [   0,    0,    0,    0,    0,    0,    0,    0,    0,    0,    0,    0,   45,    0,    0],\n",
        "       [   0,    0,    0,    0,    0,    0,    0,    0,    0,    0,    0,    0,    0,   45,    0],\n",
        "       [   0,    0,    0,    0,    0,    0,    0,    0,    0,    0,    0,    0,    0,    0,  388]])"
       ]
      }
     ],
     "prompt_number": 42
    },
    {
     "cell_type": "code",
     "collapsed": false,
     "input": [
      "tower.mode_freqs / 2/pi"
     ],
     "language": "python",
     "metadata": {},
     "outputs": [
      {
       "output_type": "pyout",
       "prompt_number": 43,
       "text": [
        "array([  6.994,   6.994,  19.28 ])"
       ]
      }
     ],
     "prompt_number": 43
    },
    {
     "cell_type": "code",
     "collapsed": false,
     "input": [
      "rna = RigidBody('rna', rna_mass,\n",
      "                inertia=np.diag([rna_yaw_inertia, rna_FA_inertia, rna_SS_inertia]))\n",
      "tower.add_leaf(rna)\n",
      "system = System(tower)\n",
      "system.prescribe(tower, vel=0, part=[0, 3])"
     ],
     "language": "python",
     "metadata": {},
     "outputs": [],
     "prompt_number": 44
    },
    {
     "cell_type": "code",
     "collapsed": false,
     "input": [
      "system.print_info()"
     ],
     "language": "python",
     "metadata": {},
     "outputs": [
      {
       "output_type": "stream",
       "stream": "stdout",
       "text": [
        "System:\n",
        "\n",
        "<DistalModalElementFromScratch \"tower\">:\n",
        "    prox node: ground\n",
        "    strains: 9 (tower-strains)\n",
        "    constraints: 6 (tower-constraints)\n",
        "    distal nodes: node-0\n",
        "\n",
        "<RigidBody \"rna\">:\n",
        "    prox node: node-0\n",
        "\n"
       ]
      }
     ],
     "prompt_number": 45
    },
    {
     "cell_type": "code",
     "collapsed": false,
     "input": [
      "system.print_states()"
     ],
     "language": "python",
     "metadata": {},
     "outputs": [
      {
       "output_type": "stream",
       "stream": "stdout",
       "text": [
        "      Element        Type           ID             Prescribed\n",
        "-------------------------------------------------------------\n",
        " 0-5  None           ground         ground                * \n",
        " 6-11 tower          constraint     tower-constraints       \n",
        "12-20 tower          strain         tower-strains        (*)\n",
        "21-26 tower          node           node-0                  \n"
       ]
      }
     ],
     "prompt_number": 46
    },
    {
     "cell_type": "markdown",
     "metadata": {},
     "source": [
      "Reduced matrices:"
     ]
    },
    {
     "cell_type": "code",
     "collapsed": false,
     "input": [
      "system.update_kinematics()\n",
      "rsys = ReducedSystem(system)"
     ],
     "language": "python",
     "metadata": {},
     "outputs": [],
     "prompt_number": 47
    },
    {
     "cell_type": "code",
     "collapsed": false,
     "input": [
      "rsys.M"
     ],
     "language": "python",
     "metadata": {},
     "outputs": [
      {
       "output_type": "pyout",
       "prompt_number": 48,
       "text": [
        "array([[   132285.714,         0.   ,         0.   ,   -188571.429,     15694.863,         0.   ,     10157.244],\n",
        "       [        0.   ,    132285.714,    188571.429,         0.   ,         0.   ,    -15694.863,         0.   ],\n",
        "       [        0.   ,    188571.429,   9817111.857,         0.   ,         0.   ,   -202633.082,         0.   ],\n",
        "       [  -188571.429,         0.   ,         0.   ,  16106642.857,   -202633.082,         0.   ,    -77543.035],\n",
        "       [    15694.863,         0.   ,         0.   ,   -202633.082,     23788.469,         0.   ,         0.   ],\n",
        "       [        0.   ,    -15694.863,   -202633.082,         0.   ,         0.   ,     23788.469,         0.   ],\n",
        "       [    10157.244,         0.   ,         0.   ,    -77543.035,         0.   ,         0.   ,     26470.34 ]])"
       ]
      }
     ],
     "prompt_number": 48
    },
    {
     "cell_type": "markdown",
     "metadata": {},
     "source": [
      "The dofs of the linearised system are: 2x transverse deflection, 2x transverse rotation, 2x normal modes"
     ]
    },
    {
     "cell_type": "code",
     "collapsed": false,
     "input": [
      "from mbwind.linearisation import LinearisedSystem\n",
      "system.update_kinematics()\n",
      "lsys = LinearisedSystem.from_system(system)\n",
      "print lsys.M\n",
      "print lsys.K / 1e3"
     ],
     "language": "python",
     "metadata": {},
     "outputs": [
      {
       "output_type": "stream",
       "stream": "stdout",
       "text": [
        "[[   132285.714         0.            0.      -188571.429     15694.863         0.        10157.244]\n",
        " [        0.       132285.714    188571.429         0.            0.       -15694.863         0.   ]\n",
        " [        0.       188571.429   9817111.857         0.            0.      -202633.082         0.   ]\n",
        " [  -188571.429         0.            0.     16106642.857   -202633.082         0.       -77543.035]\n",
        " [    15694.863         0.            0.      -202633.082     23788.469         0.            0.   ]\n",
        " [        0.       -15694.863   -202633.082         0.            0.        23788.469         0.   ]\n",
        " [    10157.244         0.            0.       -77543.035         0.            0.        26470.34 ]]\n",
        "[[    2777.778        0.           0.      -83333.333        0.           0.          -0.   ]\n",
        " [       0.        2777.778    83333.333        0.           0.          -0.           0.   ]\n",
        " [       0.       83333.333  3333333.333        0.           0.          -0.           0.   ]\n",
        " [  -83333.333        0.           0.     3333333.333       -0.           0.           0.   ]\n",
        " [       0.           0.           0.          -0.       45940.202        0.           0.   ]\n",
        " [       0.          -0.          -0.           0.           0.       45940.202        0.   ]\n",
        " [       0.           0.           0.           0.           0.           0.      388442.258]]\n"
       ]
      }
     ],
     "prompt_number": 49
    },
    {
     "cell_type": "markdown",
     "metadata": {},
     "source": [
      "This is off by some signs (and slightly different numerically) but basically agrees with the mass matrix found by [calculating beam modes from scratch](../examples/Beam modes.ipynb). **Except that didn't find the same rotation-translation coupling as I have here**.\n",
      "\n",
      "The stiffness matrix however is completely different for the attachment modes (the normal modes agree)."
     ]
    },
    {
     "cell_type": "code",
     "collapsed": false,
     "input": [
      "sqrt(diag(lsys.K[4:, 4:]) / diag(lsys.M[4:, 4:])) / 2 / pi"
     ],
     "language": "python",
     "metadata": {},
     "outputs": [
      {
       "output_type": "pyout",
       "prompt_number": 50,
       "text": [
        "array([  6.994,   6.994,  19.28 ])"
       ]
      }
     ],
     "prompt_number": 50
    },
    {
     "cell_type": "code",
     "collapsed": false,
     "input": [
      "import scipy.linalg\n",
      "w, v = scipy.linalg.eig(lsys.K, lsys.M)\n",
      "order = argsort(w)\n",
      "f = sqrt(w[order].real) / 2/pi\n",
      "v = v[:,order]\n",
      "f"
     ],
     "language": "python",
     "metadata": {},
     "outputs": [
      {
       "output_type": "pyout",
       "prompt_number": 51,
       "text": [
        "array([  0.364,   0.369,   2.297,   2.883,   7.706,   8.074,  19.757])"
       ]
      }
     ],
     "prompt_number": 51
    },
    {
     "cell_type": "code",
     "collapsed": false,
     "input": [
      "v[:,5] * 1e3"
     ],
     "language": "python",
     "metadata": {},
     "outputs": [
      {
       "output_type": "pyout",
       "prompt_number": 52,
       "text": [
        "array([    0.   ,   -93.351,   -22.067,     0.   ,     0.   , -1000.   ,     0.   ])"
       ]
      }
     ],
     "prompt_number": 52
    },
    {
     "cell_type": "heading",
     "level": 2,
     "metadata": {},
     "source": [
      "With free joint"
     ]
    },
    {
     "cell_type": "markdown",
     "metadata": {},
     "source": [
      "Now try adding a free joint to the bottom."
     ]
    },
    {
     "cell_type": "code",
     "collapsed": false,
     "input": [
      "from mbwind.elements import FreeJoint\n",
      "joint_stiffness = array([\n",
      "       [    41180,         0,         0,         0,  -2816000,         0],\n",
      "       [        0,     41180,         0,   2816000,         0,         0],\n",
      "       [        0,         0,     11940,         0,         0,         0],\n",
      "       [        0,   2816000,         0, 311100000,         0,         0],\n",
      "       [ -2816000,         0,         0,         0, 311100000,         0],\n",
      "       [        0,         0,         0,         0,         0,  11560000]])\n",
      "joint_damping = array([\n",
      "       [   100000.,         0.,         0.,         0.,         0.,         0.],\n",
      "       [        0.,    100000.,         0.,         0.,         0.,         0.],\n",
      "       [        0.,         0.,    130000.,         0.,         0.,         0.],\n",
      "       [        0.,         0.,         0.,         0.,         0.,         0.],\n",
      "       [        0.,         0.,         0.,         0.,         0.,         0.],\n",
      "       [        0.,         0.,         0.,         0.,         0.,  13000000.]])\n",
      "                \n",
      "joint = FreeJoint('joint', joint_stiffness, joint_damping)\n",
      "tower = DistalModalElementFromScratch('tower', modes, 0)\n",
      "rna = RigidBody('rna', rna_mass,\n",
      "                inertia=np.diag([rna_yaw_inertia, rna_FA_inertia, rna_SS_inertia]))\n",
      "joint.add_leaf(tower)\n",
      "tower.add_leaf(rna)\n",
      "system = System(joint)\n",
      "system.prescribe(tower, vel=0)"
     ],
     "language": "python",
     "metadata": {},
     "outputs": [],
     "prompt_number": 53
    },
    {
     "cell_type": "code",
     "collapsed": false,
     "input": [
      "system.print_states()"
     ],
     "language": "python",
     "metadata": {},
     "outputs": [
      {
       "output_type": "stream",
       "stream": "stdout",
       "text": [
        "      Element        Type           ID             Prescribed\n",
        "-------------------------------------------------------------\n",
        " 0-5  None           ground         ground                * \n",
        " 6-11 joint          constraint     joint-constraints       \n",
        "12-17 joint          strain         joint-strains           \n",
        "18-23 joint          node           node-0                  \n",
        "24-29 tower          constraint     tower-constraints       \n",
        "30-35 tower          strain         tower-strains         * \n",
        "36-41 tower          node           node-1                  \n"
       ]
      }
     ],
     "prompt_number": 54
    },
    {
     "cell_type": "code",
     "collapsed": false,
     "input": [
      "system.update_kinematics()\n",
      "lsys = LinearisedSystem.from_system(system)\n",
      "matshow(lsys.M)\n",
      "matshow(lsys.K);"
     ],
     "language": "python",
     "metadata": {},
     "outputs": [
      {
       "output_type": "display_data",
       "png": "[encoded data removed]",
       "text": [
        "<matplotlib.figure.Figure at 0x2a332d0>"
       ]
      },
      {
       "output_type": "display_data",
       "png": "[encoded data removed]",
       "text": [
        "<matplotlib.figure.Figure at 0x2a42a50>"
       ]
      }
     ],
     "prompt_number": 55
    },
    {
     "cell_type": "code",
     "collapsed": false,
     "input": [
      "w, v = scipy.linalg.eig(lsys.K, lsys.M)\n",
      "order = argsort(w)\n",
      "f = sqrt(w[order].real) / 2/pi\n",
      "v = v[:,order]\n",
      "f"
     ],
     "language": "python",
     "metadata": {},
     "outputs": [
      {
       "output_type": "pyout",
       "prompt_number": 56,
       "text": [
        "array([ 0.022,  0.035,  0.055,  0.142,  0.382,  1.021])"
       ]
      }
     ],
     "prompt_number": 56
    },
    {
     "cell_type": "markdown",
     "metadata": {},
     "source": [
      "And now with tower flexibility, no normal modes:"
     ]
    },
    {
     "cell_type": "code",
     "collapsed": false,
     "input": [
      "system.free(tower)\n",
      "system.prescribe(tower, vel=0, part=[0, 3])\n",
      "system.update_kinematics()\n",
      "lsys = LinearisedSystem.from_system(system)\n",
      "w, v = scipy.linalg.eig(lsys.K, lsys.M)\n",
      "order = argsort(w)\n",
      "f = sqrt(w[order].real) / 2/pi\n",
      "v = v[:,order]\n",
      "f"
     ],
     "language": "python",
     "metadata": {},
     "outputs": [
      {
       "output_type": "pyout",
       "prompt_number": 60,
       "text": [
        "array([  0.022,   0.035,   0.055,   0.142,   0.351,   1.019,   2.545,   3.171,  11.839,  12.958])"
       ]
      }
     ],
     "prompt_number": 60
    },
    {
     "cell_type": "markdown",
     "metadata": {},
     "source": [
      "And with normal modes:"
     ]
    },
    {
     "cell_type": "code",
     "collapsed": false,
     "input": [
      "joint = FreeJoint('joint', joint_stiffness, joint_damping)\n",
      "tower = DistalModalElementFromScratch('tower', modes, 4)\n",
      "rna = RigidBody('rna', rna_mass,\n",
      "                inertia=np.diag([rna_yaw_inertia, rna_FA_inertia, rna_SS_inertia]))\n",
      "joint.add_leaf(tower)\n",
      "tower.add_leaf(rna)\n",
      "system = System(joint)\n",
      "system.prescribe(tower, vel=0, part=[0, 3])\n",
      "lsys = LinearisedSystem.from_system(system)\n",
      "w, v = scipy.linalg.eig(lsys.K, lsys.M)\n",
      "order = argsort(w)\n",
      "f = sqrt(w[order].real) / 2/pi\n",
      "v = v[:,order]\n",
      "f"
     ],
     "language": "python",
     "metadata": {},
     "outputs": [
      {
       "output_type": "pyout",
       "prompt_number": 63,
       "text": [
        "array([  0.022,   0.035,   0.055,   0.142,   0.351,   1.019,   2.542,   3.158,   7.649,   8.19 ,  19.827,  20.17 ,  78.901,  80.767])"
       ]
      }
     ],
     "prompt_number": 63
    },
    {
     "cell_type": "code",
     "collapsed": false,
     "input": [],
     "language": "python",
     "metadata": {},
     "outputs": []
    }
   ],
   "metadata": {}
  }
 ]
}