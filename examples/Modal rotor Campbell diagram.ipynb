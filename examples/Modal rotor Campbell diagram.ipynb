{
 "metadata": {
  "kernelspec": {
   "codemirror_mode": {
    "name": "ipython",
    "version": 3
   },
   "display_name": "IPython (Python 3)",
   "language": "python",
   "name": "python3"
  },
  "name": "",
  "signature": "sha256:389d1f3d243ba62118be685786ca4a64b71f64cb7c491509e292b485406b4e83"
 },
 "nbformat": 3,
 "nbformat_minor": 0,
 "worksheets": [
  {
   "cells": [
    {
     "cell_type": "markdown",
     "metadata": {},
     "source": [
      "> Originally created on Thu 26 Apr 2012    \n",
      "> Converted to notebook Fri 24 May 2013    \n",
      "> Author: Rick Lupton     \n",
      "\n",
      "Test non-linearity of a rotating modal element."
     ]
    },
    {
     "cell_type": "code",
     "collapsed": false,
     "input": [
      "%matplotlib inline\n",
      "import numpy as np\n",
      "import matplotlib.pyplot as plt\n",
      "\n",
      "from mbwind import (System, Hinge, RigidConnection, ModalElementFromFE, rotations,\n",
      "                    Integrator, rotmat_x, rotmat_y, LoadOutput, LinearisedSystem)\n",
      "\n",
      "class Rotor(object):\n",
      "    def __init__(self, blade, root_length=0, spin=0):\n",
      "\n",
      "        # Calculate FE\n",
      "        fe = blade_fe(blade, root_length=root_length, spin=spin)\n",
      "        self.fe = fe\n",
      "\n",
      "        # Build rotor model\n",
      "        self.roots = []\n",
      "        self.blades = []\n",
      "        self.bearing = Hinge('bearing', [1,0,0])\n",
      "        for ib in range(3):\n",
      "            R = rotations(('x', ib*2*pi/3), ('y', -pi/2))\n",
      "            root_offset = dot(R, [root_length, 0, 0])\n",
      "            root = RigidConnection('root%d' % (ib+1), root_offset, R)\n",
      "            blade = ModalElementFromFE('blade%d' % (ib+1), fe, num_modes=4)\n",
      "            self.roots.append(root)\n",
      "            self.blades.append(blade)\n",
      "            self.bearing.add_leaf(root)\n",
      "            root.add_leaf(blade)\n",
      "\n",
      "        self.system = System()\n",
      "        self.system.add_leaf(self.bearing)\n",
      "        self.system.setup()\n",
      "        \n",
      "        # Prescribed DOF accelerations - constant rotor speed\n",
      "        self.system.prescribe(self.bearing, acc=0.0)\n",
      "        \n",
      "        # setup integrator\n",
      "        self.integ = Integrator(self.system, ('pos','vel'))\n",
      "        self.integ.add_output(LoadOutput(self.bearing.iprox))\n",
      "        self.integ.add_output(LoadOutput(self.blades[0].iprox, local=True))\n",
      "        self.integ.add_output(self.blades[0].output_deflections())\n",
      "        self.integ.add_output(self.blades[0].output_positions())\n",
      "        \n",
      "    def simulate(self, qm0=None, spin=10.0, t1=1.5, dt=0.01):\n",
      "        # reset\n",
      "        self.system.q [:] = 0.0\n",
      "        self.system.qd[:] = 0.0\n",
      "\n",
      "        # initial conditions\n",
      "        if qm0 is not None:  # initial modal amplitudes\n",
      "            for i in range(3):\n",
      "                self.system.q[self.blades[i].istrain] = qm0\n",
      "        self.system.qd[self.bearing.istrain][0] = spin\n",
      "        \n",
      "        # simulate\n",
      "        self.t,self.y = self.integ.integrate(t1, dt)\n",
      "        for i,lab in enumerate(self.integ.labels):\n",
      "            print(\"%2d  %s\" % (i,lab))\n",
      "        return self.t, self.y\n",
      "    \n",
      "    def lin(self, qm0=None, spin=10.0):\n",
      "        # reset\n",
      "        self.system.q [:] = 0.0\n",
      "        self.system.qd[:] = 0.0\n",
      "\n",
      "        # initial conditions\n",
      "        if qm0 is not None:  # initial modal amplitudes\n",
      "            for i in range(3):\n",
      "                self.system.q[self.blades[i].istrain] = qm0\n",
      "        else:\n",
      "            qm0 = np.zeros(self.blades[0]._nstrain * 3)\n",
      "        self.system.qd[self.bearing.istrain][0] = spin\n",
      "        \n",
      "        linsys = LinearisedSystem.from_system(self.system, qm0)\n",
      "        return linsys\n",
      "\n",
      "    def ani(self, t=None, y=None, planview=True):\n",
      "        if t is None: t = self.t\n",
      "        if y is None: y = self.y\n",
      "        l = 40\n",
      "        if planview:\n",
      "            return dynvis.anim(self.system, t, y, (1,2), (-l,l), (-l,l))\n",
      "        else:\n",
      "            return dynvis.anim(self.system, t, y, (0,1), (-l,l), (-5,5))\n"
     ],
     "language": "python",
     "metadata": {},
     "outputs": [],
     "prompt_number": 1
    },
    {
     "cell_type": "markdown",
     "metadata": {},
     "source": [
      "Build the model:"
     ]
    },
    {
     "cell_type": "code",
     "collapsed": false,
     "input": [
      "from sample_blade import sample_blade_data, blade_fe\n",
      "blade = sample_blade_data()"
     ],
     "language": "python",
     "metadata": {},
     "outputs": [],
     "prompt_number": 2
    },
    {
     "cell_type": "heading",
     "level": 3,
     "metadata": {},
     "source": [
      "Test linearisation"
     ]
    },
    {
     "cell_type": "code",
     "collapsed": false,
     "input": [
      "def campbell_diagram(speeds, freqs=None):\n",
      "    speeds = np.array(speeds)\n",
      "    if freqs is None:\n",
      "        print('----------------------------')\n",
      "        print('Calculating Campbell diagram')\n",
      "        print('----------------------------')\n",
      "        print()\n",
      "        print('Varying speeds:')\n",
      "        print(speeds)\n",
      "        print()\n",
      "        \n",
      "        freqs = []\n",
      "        for Omega in speeds:\n",
      "            print('::: Omega = {}'.format(Omega))\n",
      "            rotor = Rotor(blade, root_length=1.5, spin=Omega)\n",
      "            linsys = rotor.lin(spin=Omega)\n",
      "            w,v = linsys.modes()\n",
      "            assert np.allclose(w[0::3], w[1::3]) and np.allclose(w[0::3], w[2::3])\n",
      "            freqs.append(w[0::3])\n",
      "        freqs = np.array(freqs)\n",
      "\n",
      "    fig = plt.figure()\n",
      "    ax = fig.add_subplot(111)\n",
      "    ax.plot(speeds, (freqs / freqs[0] - 1) * 100, '.-')\n",
      "    #ax.plot(speeds, speeds, 'k--', speeds, 2*speeds, 'k--')\n",
      "    ax.set_title('Campbell diagram')\n",
      "    ax.set_xlabel('Rotational speed (rad/s)')\n",
      "    #ax.set_ylabel('Vibration frequency (rad/s)')\n",
      "    ax.set_ylabel('% change in frequency')\n",
      "    ax.legend(['Mode {}'.format(i+1) for i in range(4)], loc='upper left')\n",
      "    return freqs"
     ],
     "language": "python",
     "metadata": {},
     "outputs": [],
     "prompt_number": 3
    },
    {
     "cell_type": "markdown",
     "metadata": {},
     "source": [
      "Load Bladed Campbell diagram results"
     ]
    },
    {
     "cell_type": "code",
     "collapsed": false,
     "input": [
      "from pybladed.data import BladedRun\n",
      "bspeeds = array([1, 5, 10, 20, 50, 100])\n",
      "brun = [BladedRun('/phd_data/bladed/blade_nrel/lin1_%drpm' % speed) for speed in bspeeds]\n",
      "bf = [np.r_[[run.get('Frequency;{}'.format(i))[0].magnitude for run in brun]]\n",
      "      for i in [3, 6, 9, 12]]"
     ],
     "language": "python",
     "metadata": {},
     "outputs": [],
     "prompt_number": 36
    },
    {
     "cell_type": "markdown",
     "metadata": {},
     "source": [
      "Calculate the Campbell diagram and plot the results:"
     ]
    },
    {
     "cell_type": "code",
     "collapsed": false,
     "input": [
      "speeds = np.arange(0, 105, 10)\n",
      "fc = campbell_diagram(speeds*pi/30)"
     ],
     "language": "python",
     "metadata": {},
     "outputs": [
      {
       "output_type": "stream",
       "stream": "stdout",
       "text": [
        "----------------------------\n",
        "Calculating Campbell diagram\n",
        "----------------------------\n",
        "\n",
        "Varying speeds:\n",
        "[  0.      1.047   2.094   3.142   4.189   5.236   6.283   7.33    8.378   9.425  10.472]\n",
        "\n",
        "::: Omega = 0.0\n",
        "::: Omega = 1.0471975511965976\n",
        "::: Omega = 2.0943951023931953\n",
        "::: Omega = 3.1415926535897927\n",
        "::: Omega = 4.1887902047863905\n",
        "::: Omega = 5.235987755982989\n",
        "::: Omega = 6.283185307179585\n",
        "::: Omega = 7.330382858376184\n",
        "::: Omega = 8.377580409572781\n",
        "::: Omega = 9.42477796076938\n",
        "::: Omega = 10.471975511965978\n"
       ]
      },
      {
       "metadata": {},
       "output_type": "display_data",
       "png": "[encoded data removed]",
       "text": [
        "<matplotlib.figure.Figure>"
       ]
      }
     ],
     "prompt_number": 66
    },
    {
     "cell_type": "markdown",
     "metadata": {},
     "source": [
      "Swap order of modes 1&2 for better display:"
     ]
    },
    {
     "cell_type": "code",
     "collapsed": false,
     "input": [
      "iswap = 5\n",
      "temp = fc[iswap:, 0].copy()\n",
      "fc[iswap:, 0] = fc[iswap:, 1]\n",
      "fc[iswap:, 1] = temp"
     ],
     "language": "python",
     "metadata": {},
     "outputs": [],
     "prompt_number": 67
    },
    {
     "cell_type": "markdown",
     "metadata": {},
     "source": [
      "Save results for later comparison:"
     ]
    },
    {
     "cell_type": "code",
     "collapsed": false,
     "input": [
      "np.savez('blade_nrel_campbell_diagram_results.npz', speeds=speeds, freqs=fc.T, bspeeds=bspeeds, bfreqs=bf)"
     ],
     "language": "python",
     "metadata": {},
     "outputs": [],
     "prompt_number": 72
    },
    {
     "cell_type": "code",
     "collapsed": false,
     "input": [
      "fig, ax = subplots()\n",
      "dy = [0.3, -0.3, -0.3, -0.3]\n",
      "ix = 7\n",
      "for i in range(4):\n",
      "    ax.plot(speeds, fc[:, i]/2/pi, '-', label=('mbwind results' if i == 0 else None))\n",
      "    ax.text(speeds[ix], fc[ix, i]/2/pi + dy[i], 'Mode {}'.format(i+1), color='bgrc'[i])\n",
      "    ax.plot(bspeeds, bf[i]/2/pi, 'kx', mew=1.5, label=('Bladed results' if i == 0 else None))\n",
      "ax.set_xlim(0, 105)\n",
      "ax.legend(loc='upper left', frameon=False)\n",
      "ax.set_title('Campbell diagram')\n",
      "ax.set_xlabel('Rotational speed (rpm)')\n",
      "ax.set_ylabel('Vibration frequency (Hz)');"
     ],
     "language": "python",
     "metadata": {},
     "outputs": [
      {
       "metadata": {},
       "output_type": "display_data",
       "png": "[encoded data removed]",
       "text": [
        "<matplotlib.figure.Figure>"
       ]
      }
     ],
     "prompt_number": 71
    },
    {
     "cell_type": "code",
     "collapsed": false,
     "input": [],
     "language": "python",
     "metadata": {},
     "outputs": []
    }
   ],
   "metadata": {}
  }
 ]
}