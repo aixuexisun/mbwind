{
 "metadata": {
  "name": "Mode shapes from Bladed - uniform blade"
 },
 "nbformat": 3,
 "nbformat_minor": 0,
 "worksheets": [
  {
   "cells": [
    {
     "cell_type": "code",
     "collapsed": false,
     "input": [
      "%load_ext autoreload\n",
      "%autoreload 2\n",
      "%pylab inline\n",
      "from numpy.testing import assert_array_equal, assert_array_almost_equal\n",
      "np.set_printoptions(suppress=True, precision=3)\n",
      "from mbwind import *\n",
      "from mbwind.io import load_modes_from_Bladed\n",
      "from mbwind.modes import *"
     ],
     "language": "python",
     "metadata": {},
     "outputs": [
      {
       "output_type": "stream",
       "stream": "stdout",
       "text": [
        "The autoreload extension is already loaded. To reload it, use:\n",
        "  %reload_ext autoreload\n",
        "\n",
        "Welcome to pylab, a matplotlib-based Python environment [backend: module://IPython.kernel.zmq.pylab.backend_inline].\n",
        "For more information, type 'help(pylab)'.\n"
       ]
      }
     ],
     "prompt_number": 11
    },
    {
     "cell_type": "heading",
     "level": 2,
     "metadata": {},
     "source": [
      "Uniform blade"
     ]
    },
    {
     "cell_type": "markdown",
     "metadata": {},
     "source": [
      "Check the modal analysis using a simple uniform blade."
     ]
    },
    {
     "cell_type": "code",
     "collapsed": false,
     "input": [
      "modes = load_modes_from_Bladed('demo_a_uniform_blade.prj');"
     ],
     "language": "python",
     "metadata": {},
     "outputs": [],
     "prompt_number": 13
    },
    {
     "cell_type": "markdown",
     "metadata": {},
     "source": [
      "Check the mass totals etc agree with those reported by Bladed:"
     ]
    },
    {
     "cell_type": "code",
     "collapsed": false,
     "input": [
      "assert_array_equal(modes.mass, 8000)\n",
      "assert_array_equal(modes.I0, [160000, 0, 0])\n",
      "assert_array_almost_equal(modes.ss_J0, diag([0, 4266667, 4266667]), decimal=0)"
     ],
     "language": "python",
     "metadata": {},
     "outputs": [],
     "prompt_number": 3
    },
    {
     "cell_type": "markdown",
     "metadata": {},
     "source": [
      "Check the modes are as expected:"
     ]
    },
    {
     "cell_type": "code",
     "collapsed": false,
     "input": [
      "assert_array_almost_equal(modes.freqs/2/pi, [1.749, 2.473, 10.959, 15.499], decimal=3)\n",
      "assert_array_almost_equal(modes.damping, 0.01)"
     ],
     "language": "python",
     "metadata": {},
     "outputs": [],
     "prompt_number": 4
    },
    {
     "cell_type": "markdown",
     "metadata": {},
     "source": [
      "The lumped-mass matrix, and the stiffness matrix in the y-direction:"
     ]
    },
    {
     "cell_type": "code",
     "collapsed": false,
     "input": [
      "matshow(modes.M); colorbar()\n",
      "matshow(modes.K[:,:,1,1]); colorbar();"
     ],
     "language": "python",
     "metadata": {},
     "outputs": [
      {
       "ename": "AttributeError",
       "evalue": "'ModalRepresentation' object has no attribute 'M'",
       "output_type": "pyerr",
       "traceback": [
        "\u001b[1;31m---------------------------------------------------------------------------\u001b[0m\n\u001b[1;31mAttributeError\u001b[0m                            Traceback (most recent call last)",
        "\u001b[1;32m<ipython-input-5-57cea05cbc11>\u001b[0m in \u001b[0;36m<module>\u001b[1;34m()\u001b[0m\n\u001b[1;32m----> 1\u001b[1;33m \u001b[0mmatshow\u001b[0m\u001b[1;33m(\u001b[0m\u001b[0mmodes\u001b[0m\u001b[1;33m.\u001b[0m\u001b[0mM\u001b[0m\u001b[1;33m)\u001b[0m\u001b[1;33m;\u001b[0m \u001b[0mcolorbar\u001b[0m\u001b[1;33m(\u001b[0m\u001b[1;33m)\u001b[0m\u001b[1;33m\u001b[0m\u001b[0m\n\u001b[0m\u001b[0;32m      2\u001b[0m \u001b[0mmatshow\u001b[0m\u001b[1;33m(\u001b[0m\u001b[0mmodes\u001b[0m\u001b[1;33m.\u001b[0m\u001b[0mK\u001b[0m\u001b[1;33m[\u001b[0m\u001b[1;33m:\u001b[0m\u001b[1;33m,\u001b[0m\u001b[1;33m:\u001b[0m\u001b[1;33m,\u001b[0m\u001b[1;36m1\u001b[0m\u001b[1;33m,\u001b[0m\u001b[1;36m1\u001b[0m\u001b[1;33m]\u001b[0m\u001b[1;33m)\u001b[0m\u001b[1;33m;\u001b[0m \u001b[0mcolorbar\u001b[0m\u001b[1;33m(\u001b[0m\u001b[1;33m)\u001b[0m\u001b[1;33m;\u001b[0m\u001b[1;33m\u001b[0m\u001b[0m\n",
        "\u001b[1;31mAttributeError\u001b[0m: 'ModalRepresentation' object has no attribute 'M'"
       ]
      }
     ],
     "prompt_number": 5
    },
    {
     "cell_type": "heading",
     "level": 3,
     "metadata": {},
     "source": [
      "Mode shapes"
     ]
    },
    {
     "cell_type": "code",
     "collapsed": false,
     "input": [
      "plot(modes.X0[:,0], modes.shapes[:,[2,1,2,1],[0,1,2,3]]);\n",
      "legend(range(1,5), loc='best');"
     ],
     "language": "python",
     "metadata": {},
     "outputs": [
      {
       "output_type": "display_data",
       "png": "[encoded data removed]",
       "text": [
        "<matplotlib.figure.Figure at 0x49c2610>"
       ]
      }
     ],
     "prompt_number": 6
    },
    {
     "cell_type": "heading",
     "level": 3,
     "metadata": {},
     "source": [
      "Shape integrals"
     ]
    },
    {
     "cell_type": "markdown",
     "metadata": {},
     "source": [
      "The equations of motion using the modal representation include integrals\n",
      "over the deformed mass distribution, which is\n",
      "$$\n",
      "\\boldsymbol{X}(\\boldsymbol{X}_0) = \\boldsymbol{X}_0 +\n",
      "    \\boldsymbol{U}(\\boldsymbol{X}_0) \\boldsymbol{\\epsilon}\n",
      "$$\n",
      "where $\\boldsymbol{X}_0$ is an undeflected position where the density\n",
      "and modeshapes are defined.\n",
      "\n",
      "Firstly, the mass, moment of mass and inertia tensor are required. These\n",
      "are integrals over the undeflected mass distribution only:\n",
      "$$\n",
      "m = \\int dm \\\\ \n",
      "\\boldsymbol{I}_0 = \\int \\boldsymbol{X}_0 dm \\\\ \n",
      "\\boldsymbol{J} = - \\int \\boldsymbol{\\tilde{X}}_0 \\boldsymbol{\\tilde{X}}_0 dm \\\\\n",
      "$$\n",
      "\n",
      "The velocity and acceleration due to changes in modal amplitude depend only\n",
      "on the mode shapes, and thus require the first shape integral,\n",
      "$$\n",
      "S_{ip} = \\int U_{ip} dm\n",
      "$$\n",
      "\n",
      "The second shape function integral has two parts, due to the deflection and rotation of the cross-sections:\n",
      "$$\n",
      "S_{ijp}^U = \\int X_{0_j} U_{ip} dm \\\\\n",
      "S_{ijp}^V = \\epsilon_{ilm} \\int K_{jm} V_{lp} ds\n",
      "$$\n",
      "\n",
      "The third shape integral also has two parts:\n",
      "$$\n",
      "S_{ijpr}^U = \\int U_{ip} U_{jr} dm \\\\\n",
      "S_{ijpr}^U = \\epsilon_{ikm}\\epsilon_{jln} \\int K_{kl} V_{mp} V_{nr} \\rho ds\n",
      "$$\n",
      "\n",
      "Strictly fewer integrals are needed, see for example \"Dynamics of Multibody\n",
      "Systems\" ch. 5 by A. Shabana.\n",
      "\n",
      "These integrals are evaluated using the trapezium rule using the provided\n",
      "density distribution and mode shapes. Because the element is 1-dimensional,\n",
      "the inertia of the cross-sections is not included. An extra inertia\n",
      "distribution can be provided which is added to the calculation of the\n",
      "inertia tensor.\n",
      "\n",
      "This probably neglects the change in this added inertia with deflection,\n",
      "but that is probably ok.\n",
      "\n",
      "Because the element is one-dimensional, the above formulae can be written\n",
      "explicitly as\n",
      "$$\n",
      "\\boldsymbol{X}(s) = \\begin{bmatrix} s \\\\ 0 \\\\ 0 \\end{bmatrix}\n",
      "        + \\boldsymbol{U}(\\boldsymbol{X}_0) \\boldsymbol{\\epsilon} \\\\\n",
      "I_0 = \\int s \\rho(s) \\, ds \\\\\n",
      "\\boldsymbol{J} = \\begin{bmatrix} 0 & 0 & 0 \\\\ 0 & J_0 & 0 \\\\ 0 & 0 & J_0 \\end{bmatrix}\n",
      "\\mbox{ where } J_0 = \\int s^2  \\rho(s) \\, ds \\\\\n",
      "S_{ip} = \\int U_{ip}(s) \\rho(s) \\, ds \\\\\n",
      "\\boldsymbol{T}_i = \\int \\begin{bmatrix} 0 & 0 & 0 \\\\ 0 & 0 & s \\\\ 0 & -s & 0 \\end{bmatrix}\n",
      "    \\boldsymbol{\\tilde{U}}_i(s) \\rho(s) \\, ds \\\\\n",
      "\\boldsymbol{\\tilde{S}}_{ij}\n",
      "  = - \\int \\boldsymbol{\\tilde{U}}_i(s) \\boldsymbol{\\tilde{U}}_j(s)\n",
      "        \\rho(s) \\, ds \n",
      "$$"
     ]
    },
    {
     "cell_type": "markdown",
     "metadata": {},
     "source": [
      "The first shape integral is the mass-weighted sum of each mode:"
     ]
    },
    {
     "cell_type": "code",
     "collapsed": false,
     "input": [
      "modes.S"
     ],
     "language": "python",
     "metadata": {},
     "outputs": [
      {
       "output_type": "pyout",
       "prompt_number": 7,
       "text": [
        "array([[    0.   ,     0.   ,     0.   ,     0.   ],\n",
        "       [   -0.   ,  3132.863,     0.   , -1732.63 ],\n",
        "       [ 3132.863,     0.   , -1732.63 ,     0.   ]])"
       ]
      }
     ],
     "prompt_number": 7
    },
    {
     "cell_type": "markdown",
     "metadata": {},
     "source": [
      "The second integral is weighted additionally by x. Since the beam is straight only the first column is non zero."
     ]
    },
    {
     "cell_type": "code",
     "collapsed": false,
     "input": [
      "for i in range(modes.shapes.shape[-1]):\n",
      "    print 'Mode %d:' % (i + 1)\n",
      "    print modes.S1[:, :, i]\n",
      "    print"
     ],
     "language": "python",
     "metadata": {},
     "outputs": [
      {
       "output_type": "stream",
       "stream": "stdout",
       "text": [
        "Mode 1:\n",
        "[[     0.         0.         0.   ]\n",
        " [    -0.         0.         0.   ]\n",
        " [ 91074.009      0.         0.   ]]\n",
        "\n",
        "Mode 2:\n",
        "[[     0.         0.         0.   ]\n",
        " [ 91074.009      0.         0.   ]\n",
        " [     0.         0.         0.   ]]\n",
        "\n",
        "Mode 3:\n",
        "[[     0.         0.         0.   ]\n",
        " [     0.         0.         0.   ]\n",
        " [-14372.174      0.         0.   ]]\n",
        "\n",
        "Mode 4:\n",
        "[[     0.         0.         0.   ]\n",
        " [-14372.174      0.         0.   ]\n",
        " [     0.         0.         0.   ]]\n",
        "\n"
       ]
      }
     ],
     "prompt_number": 8
    },
    {
     "cell_type": "markdown",
     "metadata": {},
     "source": [
      "The third integral is the mass-weighted sum of two modes (y- then z-component)"
     ]
    },
    {
     "cell_type": "code",
     "collapsed": false,
     "input": [
      "array([modes.S2[1, 1, :, :], modes.S2[2, 2, :, :]]) "
     ],
     "language": "python",
     "metadata": {},
     "outputs": [
      {
       "output_type": "pyout",
       "prompt_number": 9,
       "text": [
        "array([[[    0.   ,    -0.   ,     0.   ,    -0.   ],\n",
        "        [   -0.   ,  2001.792,     0.   ,     4.009],\n",
        "        [    0.   ,     0.   ,     0.   ,     0.   ],\n",
        "        [   -0.   ,     4.009,     0.   ,  2006.225]],\n",
        "\n",
        "       [[ 2001.792,     0.   ,     4.009,     0.   ],\n",
        "        [    0.   ,     0.   ,     0.   ,     0.   ],\n",
        "        [    4.009,     0.   ,  2006.225,     0.   ],\n",
        "        [    0.   ,     0.   ,     0.   ,     0.   ]]])"
       ]
      }
     ],
     "prompt_number": 9
    },
    {
     "cell_type": "markdown",
     "metadata": {},
     "source": [
      "The trace of this (along the xyz axes) is the modal mass matrix. This is because the 3d velocity in the kinetic energy is roughly\n",
      "$$ \\sum_{h=1}^{N_{stations}} \\sum_{i=1}^3 \\dot{x}_{hi} \\dot{x}_{hi} m_i \n",
      "= \\left( \\sum_h \\sum_i U_{ihp} U_{ihq} m_i \\right) \\dot{\\epsilon}_p \\dot{\\epsilon}_q \n",
      "= S_{hhpq} \\dot{\\epsilon}_p \\dot{\\epsilon}_q $$"
     ]
    },
    {
     "cell_type": "code",
     "collapsed": false,
     "input": [
      "Mm = modes.S2.trace()\n",
      "Mm"
     ],
     "language": "python",
     "metadata": {},
     "outputs": [
      {
       "output_type": "pyout",
       "prompt_number": 24,
       "text": [
        "array([[ 2001.792,    -0.   ,     4.009,    -0.   ],\n",
        "       [   -0.   ,  2001.792,     0.   ,     4.009],\n",
        "       [    4.009,     0.   ,  2006.225,     0.   ],\n",
        "       [   -0.   ,     4.009,     0.   ,  2006.225]])"
       ]
      }
     ],
     "prompt_number": 24
    },
    {
     "cell_type": "markdown",
     "metadata": {},
     "source": [
      "To check this, calculate the modal stiffness matrix from the distributed stiffness. In this case the stiffness is constant along the length."
     ]
    },
    {
     "cell_type": "code",
     "collapsed": false,
     "input": [
      "x = arange(0, 40.1, 1.25)\n",
      "EIy = 5e9 * ones_like(modes.density)\n",
      "EIz = 10e9 * ones_like(modes.density)\n",
      "bma = BladeModalAnalysis(x, modes.density, EIy, EIz)"
     ],
     "language": "python",
     "metadata": {},
     "outputs": [],
     "prompt_number": 15
    },
    {
     "cell_type": "code",
     "collapsed": false,
     "input": [
      "Km = bma.modal_stiffness(modes.rotations)\n",
      "Km"
     ],
     "language": "python",
     "metadata": {},
     "outputs": [
      {
       "output_type": "pyout",
       "prompt_number": 21,
       "text": [
        "array([[   241361.084,         0.   ,       908.719,         0.   ],\n",
        "       [        0.   ,    482722.167,         0.   ,      1817.459],\n",
        "       [      908.719,         0.   ,   9457784.855,         0.   ],\n",
        "       [        0.   ,      1817.459,         0.   ,  18915569.711]])"
       ]
      }
     ],
     "prompt_number": 21
    },
    {
     "cell_type": "markdown",
     "metadata": {},
     "source": [
      "Check the eigenfrequencies:"
     ]
    },
    {
     "cell_type": "code",
     "collapsed": false,
     "input": [
      "w, v = scipy.linalg.eig(Km, Mm)\n",
      "order = argsort(w)\n",
      "f = sqrt(w[order].real) / 2/pi\n",
      "v = v[:,order]\n",
      "v"
     ],
     "language": "python",
     "metadata": {},
     "outputs": [
      {
       "output_type": "pyout",
       "prompt_number": 38,
       "text": [
        "array([[-1.   ,  0.   , -0.002,  0.   ],\n",
        "       [ 0.   ,  1.   , -0.   , -0.002],\n",
        "       [ 0.   ,  0.   ,  1.   ,  0.   ],\n",
        "       [ 0.   , -0.   , -0.   ,  1.   ]])"
       ]
      }
     ],
     "prompt_number": 38
    },
    {
     "cell_type": "code",
     "collapsed": false,
     "input": [
      "c_[f, modes.freqs/2/pi]"
     ],
     "language": "python",
     "metadata": {},
     "outputs": [
      {
       "output_type": "pyout",
       "prompt_number": 37,
       "text": [
        "array([[  1.748,   1.749],\n",
        "       [  2.471,   2.473],\n",
        "       [ 10.928,  10.959],\n",
        "       [ 15.454,  15.499]])"
       ]
      }
     ],
     "prompt_number": 37
    },
    {
     "cell_type": "markdown",
     "metadata": {},
     "source": [
      "Probably close enough."
     ]
    },
    {
     "cell_type": "markdown",
     "metadata": {},
     "source": [
      "In this example the beam is straight and has no torsional inertia, so the rotation integrals are all zero:"
     ]
    },
    {
     "cell_type": "code",
     "collapsed": false,
     "input": [
      "assert all(modes.T1 == 0) and all(modes.T2 == 0)"
     ],
     "language": "python",
     "metadata": {},
     "outputs": [],
     "prompt_number": 63
    },
    {
     "cell_type": "code",
     "collapsed": false,
     "input": [],
     "language": "python",
     "metadata": {},
     "outputs": []
    }
   ],
   "metadata": {}
  }
 ]
}