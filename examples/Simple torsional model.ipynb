{
 "metadata": {
  "name": "",
  "signature": "sha256:5c0b5484c520212350667a47f0dbbfd8c121a5ae11f0b8aabd3db558cb489f03"
 },
 "nbformat": 3,
 "nbformat_minor": 0,
 "worksheets": [
  {
   "cells": [
    {
     "cell_type": "markdown",
     "metadata": {},
     "source": [
      "A simple example of a point mass on a torsional spring -- basically a damped pendulum."
     ]
    },
    {
     "cell_type": "code",
     "collapsed": false,
     "input": [
      "%matplotlib inline\n",
      "\n",
      "from __future__ import division\n",
      "import numpy as np\n",
      "np.set_printoptions(linewidth=150)\n",
      "\n",
      "import mbwind\n",
      "from mbwind import (System, RigidBody, Hinge, RigidConnection, Integrator)\n",
      "\n",
      "# Parameters\n",
      "mass = 10.0\n",
      "length = 2.5\n",
      "natfreq = 1 # Hz\n",
      "damping_factor = 0.05\n",
      "\n",
      "I2 = mass * length**2\n",
      "k = (2*np.pi*natfreq)**2 * I2\n",
      "c = 2 * damping_factor * I2 * (2*np.pi*natfreq)\n",
      "\n",
      "# Build model\n",
      "hinge = Hinge('hinge', [0,0,1])\n",
      "hinge.stiffness = k\n",
      "hinge.damping = c\n",
      "link = RigidConnection('link', [length, 0, 0])\n",
      "body = RigidBody('body', mass)\n",
      "\n",
      "system = System()\n",
      "system.add_leaf(hinge)\n",
      "hinge.add_leaf(link)\n",
      "link.add_leaf(body)\n",
      "system.setup()"
     ],
     "language": "python",
     "metadata": {},
     "outputs": [],
     "prompt_number": 1
    },
    {
     "cell_type": "markdown",
     "metadata": {},
     "source": [
      "System state:"
     ]
    },
    {
     "cell_type": "code",
     "collapsed": false,
     "input": [
      "system.print_info()\n",
      "system.print_states()"
     ],
     "language": "python",
     "metadata": {},
     "outputs": [
      {
       "output_type": "stream",
       "stream": "stdout",
       "text": [
        "System:\n",
        "\n",
        "<Hinge \"hinge\">:\n",
        "    prox node: ground\n",
        "    strains: 1 (hinge-strains)\n",
        "    constraints: 6 (hinge-constraints)\n",
        "    distal nodes: node-0\n",
        "\n",
        "<RigidConnection \"link\">:\n",
        "    prox node: node-0\n",
        "    constraints: 6 (link-constraints)\n",
        "    distal nodes: node-1\n",
        "\n",
        "<RigidBody \"body\">:\n",
        "    prox node: node-1\n",
        "\n",
        "      Element        Type           ID             Prescribed\n",
        "-------------------------------------------------------------\n",
        "  0-5   None           ground         ground                * \n",
        "  6-11  hinge          constraint     hinge-constraints       \n",
        " 12-12  hinge          strain         hinge-strains           \n",
        " 13-18  hinge          node           node-0                  \n",
        " 19-24  link           constraint     link-constraints        \n",
        " 25-30  link           node           node-1                  \n"
       ]
      }
     ],
     "prompt_number": 2
    },
    {
     "cell_type": "markdown",
     "metadata": {},
     "source": [
      "Integrate starting from rest with an angle of 0.3 radians"
     ]
    },
    {
     "cell_type": "code",
     "collapsed": false,
     "input": [
      "integ = Integrator(system, ('pos','vel','acc'), method='dopri5')\n",
      "system.q[hinge.istrain][0] = 0.3\n",
      "t,y = integ.integrate(5, 0.01)"
     ],
     "language": "python",
     "metadata": {},
     "outputs": [
      {
       "output_type": "stream",
       "stream": "stdout",
       "text": [
        "Running simulation:\n"
       ]
      },
      {
       "output_type": "stream",
       "stream": "stdout",
       "text": [
        "."
       ]
      },
      {
       "output_type": "stream",
       "stream": "stdout",
       "text": [
        "."
       ]
      },
      {
       "output_type": "stream",
       "stream": "stdout",
       "text": [
        "."
       ]
      },
      {
       "output_type": "stream",
       "stream": "stdout",
       "text": [
        "."
       ]
      },
      {
       "output_type": "stream",
       "stream": "stdout",
       "text": [
        "."
       ]
      },
      {
       "output_type": "stream",
       "stream": "stdout",
       "text": [
        "."
       ]
      },
      {
       "output_type": "stream",
       "stream": "stdout",
       "text": [
        "."
       ]
      },
      {
       "output_type": "stream",
       "stream": "stdout",
       "text": [
        "."
       ]
      },
      {
       "output_type": "stream",
       "stream": "stdout",
       "text": [
        "."
       ]
      },
      {
       "output_type": "stream",
       "stream": "stdout",
       "text": [
        "."
       ]
      },
      {
       "output_type": "stream",
       "stream": "stdout",
       "text": [
        "."
       ]
      },
      {
       "output_type": "stream",
       "stream": "stdout",
       "text": [
        "."
       ]
      },
      {
       "output_type": "stream",
       "stream": "stdout",
       "text": [
        "."
       ]
      },
      {
       "output_type": "stream",
       "stream": "stdout",
       "text": [
        "."
       ]
      },
      {
       "output_type": "stream",
       "stream": "stdout",
       "text": [
        "."
       ]
      },
      {
       "output_type": "stream",
       "stream": "stdout",
       "text": [
        "."
       ]
      },
      {
       "output_type": "stream",
       "stream": "stdout",
       "text": [
        "."
       ]
      },
      {
       "output_type": "stream",
       "stream": "stdout",
       "text": [
        "."
       ]
      },
      {
       "output_type": "stream",
       "stream": "stdout",
       "text": [
        "."
       ]
      },
      {
       "output_type": "stream",
       "stream": "stdout",
       "text": [
        "."
       ]
      },
      {
       "output_type": "stream",
       "stream": "stdout",
       "text": [
        "."
       ]
      },
      {
       "output_type": "stream",
       "stream": "stdout",
       "text": [
        "."
       ]
      },
      {
       "output_type": "stream",
       "stream": "stdout",
       "text": [
        "."
       ]
      },
      {
       "output_type": "stream",
       "stream": "stdout",
       "text": [
        "."
       ]
      },
      {
       "output_type": "stream",
       "stream": "stdout",
       "text": [
        "."
       ]
      },
      {
       "output_type": "stream",
       "stream": "stdout",
       "text": [
        "done\n",
        " (2.8 seconds, 57% of simulation time)\n"
       ]
      }
     ],
     "prompt_number": 3
    },
    {
     "cell_type": "code",
     "collapsed": false,
     "input": [
      "fig, ax = plt.subplots()\n",
      "ax.plot(t, np.unwrap(y[0][:,0]), '.-')\n",
      "ax.grid()\n",
      "ax.set_title('Hinge angle'); xlim(1, 2) #; ylim(0.15, 0.25)"
     ],
     "language": "python",
     "metadata": {},
     "outputs": [
      {
       "metadata": {},
       "output_type": "pyout",
       "prompt_number": 4,
       "text": [
        "(1, 2)"
       ]
      },
      {
       "metadata": {},
       "output_type": "display_data",
       "png": "[encoded data removed]",
       "text": [
        "<matplotlib.figure.Figure>"
       ]
      }
     ],
     "prompt_number": 4
    },
    {
     "cell_type": "code",
     "collapsed": false,
     "input": [
      "fig, ax = plt.subplots()\n",
      "ax.plot(t[0::2], np.unwrap(y[0][0::2, 0]), '-')\n",
      "ax.plot(t[0::2], np.unwrap(y[0][1::2, 0]), '-')\n",
      "ax.grid()\n",
      "ax.set_title('Hinge angle'); xlim(1, 2)"
     ],
     "language": "python",
     "metadata": {},
     "outputs": [
      {
       "metadata": {},
       "output_type": "pyout",
       "prompt_number": 5,
       "text": [
        "(1, 2)"
       ]
      },
      {
       "metadata": {},
       "output_type": "display_data",
       "png": "[encoded data removed]",
       "text": [
        "<matplotlib.figure.Figure>"
       ]
      }
     ],
     "prompt_number": 5
    }
   ],
   "metadata": {}
  }
 ]
}