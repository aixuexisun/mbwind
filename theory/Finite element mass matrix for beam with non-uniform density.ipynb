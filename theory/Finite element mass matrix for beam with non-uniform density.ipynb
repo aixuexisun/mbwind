{
 "metadata": {
  "name": "Finite element mass matrix for beam with non-uniform density"
 },
 "nbformat": 3,
 "nbformat_minor": 0,
 "worksheets": [
  {
   "cells": [
    {
     "cell_type": "code",
     "collapsed": false,
     "input": [
      "import sympy\n",
      "from sympy import symbols, Matrix\n",
      "%load_ext sympyprinting\n",
      "%pylab inline"
     ],
     "language": "python",
     "metadata": {},
     "outputs": [
      {
       "output_type": "stream",
       "stream": "stdout",
       "text": [
        "The sympyprinting extension is already loaded. To reload it, use:\n",
        "  %reload_ext sympyprinting\n",
        "\n",
        "Welcome to pylab, a matplotlib-based Python environment [backend: module://IPython.kernel.zmq.pylab.backend_inline].\n",
        "For more information, type 'help(pylab)'.\n"
       ]
      }
     ],
     "prompt_number": 3
    },
    {
     "cell_type": "markdown",
     "metadata": {},
     "source": [
      "For now, neglect rotational inertia."
     ]
    },
    {
     "cell_type": "code",
     "collapsed": false,
     "input": [
      "xi, l, EI, rho = symbols('xi, l, EI, rho')\n",
      "\n",
      "# Shape functions\n",
      "S = Matrix(zeros((3, 12)))\n",
      "x2 = (1 - xi)\n",
      "S[0, 0 ] =  x2                     # extension\n",
      "S[0, 6 ] =  xi\n",
      "S[1, 1 ] =  x2**2 * (3 - 2*x2)     # y-deflection\n",
      "S[1, 7 ] =  xi**2 * (3 - 2*xi)\n",
      "S[1, 5 ] = -x2**2 * (x2 - 1) * l  \n",
      "S[1, 11] =  xi**2 * (xi - 1) * l  \n",
      "S[2, 2 ] =  x2**2 * (3 - 2*x2)     # z-deflection\n",
      "S[2, 8 ] =  xi**2 * (3 - 2*xi)\n",
      "S[2, 4 ] =  x2**2 * (x2 - 1) * l\n",
      "S[2, 10] = -xi**2 * (xi - 1) * l\n",
      "#S[3, 3 ] =  x2                     # torsion\n",
      "#S[3, 9 ] =  xi\n",
      "#S[4, 2 ] =  6 * x2 * (x2 - 1) / l  # y-rotation\n",
      "#S[4, 8 ] =  6 * xi * (xi - 1) / l\n",
      "#S[4, 4 ] = -x2 * (3*x2 - 2)  \n",
      "#S[4, 10] =  xi * (3*xi - 2)  \n",
      "#S[5, 1 ] = -6 * x2 * (x2 - 1) / l  # z-rotation\n",
      "#S[5, 7 ] = -6 * xi * (xi - 1) / l\n",
      "#S[5, 5 ] =  x2 * (3*x2 - 2)  \n",
      "#S[5, 11] =  xi * (3*xi - 2)  \n",
      "S"
     ],
     "language": "python",
     "metadata": {},
     "outputs": [
      {
       "output_type": "pyout",
       "prompt_number": 54,
       "text": [
        "\n",
        "\u23a1-\u03be + 1           0                    0           0        0               0 \n",
        "\u23a2                                                                             \n",
        "\u23a2                2                                                            \n",
        "\u23a2  0     (-\u03be + 1) \u22c5(2\u22c5\u03be + 1)           0           0        0         l\u22c5\u03be\u22c5(-\u03be \n",
        "\u23a2                                                                             \n",
        "\u23a2                                     2                            2          \n",
        "\u23a3  0              0           (-\u03be + 1) \u22c5(2\u22c5\u03be + 1)  0  -l\u22c5\u03be\u22c5(-\u03be + 1)         0 \n",
        "\n",
        "       \u03be        0              0        0        0             0      \u23a4\n",
        "                                                                      \u23a5\n",
        "    2      2                                                 2        \u23a5\n",
        "+ 1)   0  \u03be \u22c5(-2\u22c5\u03be + 3)        0        0        0        l\u22c5\u03be \u22c5(\u03be - 1)\u23a5\n",
        "                                                                      \u23a5\n",
        "                          2                    2                      \u23a5\n",
        "       0        0        \u03be \u22c5(-2\u22c5\u03be + 3)  0  -l\u22c5\u03be \u22c5(\u03be - 1)       0      \u23a6"
       ]
      }
     ],
     "prompt_number": 54
    },
    {
     "cell_type": "code",
     "collapsed": false,
     "input": [
      "titles = ['x-defl', 'y-defl', 'z-defl']\n",
      "for i in range(3):\n",
      "    sympy.plot(*([xx.subs(l, 2) for xx in S[i,:] if xx != 0] + [(xi, 0, 1)]), \n",
      "               title=titles[i])"
     ],
     "language": "python",
     "metadata": {},
     "outputs": [
      {
       "output_type": "display_data",
       "png": "[encoded data removed]",
       "text": [
        "Figure(480x320)"
       ]
      },
      {
       "output_type": "display_data",
       "png": "[encoded data removed]",
       "text": [
        "Figure(480x320)"
       ]
      },
      {
       "output_type": "display_data",
       "png": "[encoded data removed]",
       "text": [
        "Figure(480x320)"
       ]
      }
     ],
     "prompt_number": 55
    },
    {
     "cell_type": "heading",
     "level": 3,
     "metadata": {},
     "source": [
      "Mass matrix"
     ]
    },
    {
     "cell_type": "markdown",
     "metadata": {},
     "source": [
      "Define the density distribution (linear):"
     ]
    },
    {
     "cell_type": "code",
     "collapsed": false,
     "input": [
      "rho1, rho2 = symbols('rho_1, rho_2')\n",
      "rho = (1 - xi)*rho1 + xi*rho2\n",
      "rho"
     ],
     "language": "python",
     "metadata": {},
     "outputs": [
      {
       "latex": [
        "$$\\rho_{1} \\left(- \\xi + 1\\right) + \\rho_{2} \\xi$$"
       ],
       "output_type": "pyout",
       "png": "[encoded data removed]",
       "prompt_number": 56,
       "text": [
        "\u03c1\u2081\u22c5(-\u03be + 1) + \u03c1\u2082\u22c5\u03be"
       ]
      }
     ],
     "prompt_number": 56
    },
    {
     "cell_type": "markdown",
     "metadata": {},
     "source": [
      "Integrate the density distribution with the shape functions."
     ]
    },
    {
     "cell_type": "code",
     "collapsed": false,
     "input": [
      "def sym_me():\n",
      "    integrand = S.T * S\n",
      "    me = integrand.applyfunc(\n",
      "        lambda xxx: l * sympy.integrate(rho * xxx, (xi, 0, 1)).expand().simplify()\n",
      "    )\n",
      "    return me\n",
      "me = sym_me()\n",
      "me.shape"
     ],
     "language": "python",
     "metadata": {},
     "outputs": [
      {
       "latex": [
        "$$\\begin{pmatrix}12, & 12\\end{pmatrix}$$"
       ],
       "output_type": "pyout",
       "prompt_number": 136,
       "text": [
        "(12, 12)"
       ]
      }
     ],
     "prompt_number": 136
    },
    {
     "cell_type": "code",
     "collapsed": false,
     "input": [
      "me[0,:]"
     ],
     "language": "python",
     "metadata": {},
     "outputs": [
      {
       "output_type": "pyout",
       "prompt_number": 137,
       "text": [
        "\n",
        "\u23a1  \u239b\u03c1\u2081   \u03c1\u2082\u239e                   \u239b\u03c1\u2081   \u03c1\u2082\u239e               \u23a4\n",
        "\u23a2l\u22c5\u239c\u2500\u2500 + \u2500\u2500\u239f  0  0  0  0  0  l\u22c5\u239c\u2500\u2500 + \u2500\u2500\u239f  0  0  0  0  0\u23a5\n",
        "\u23a3  \u239d4    12\u23a0                   \u239d12   12\u23a0               \u23a6"
       ]
      }
     ],
     "prompt_number": 137
    },
    {
     "cell_type": "code",
     "collapsed": false,
     "input": [
      "me[6,:]"
     ],
     "language": "python",
     "metadata": {},
     "outputs": [
      {
       "output_type": "pyout",
       "prompt_number": 138,
       "text": [
        "\n",
        "\u23a1  \u239b\u03c1\u2081   \u03c1\u2082\u239e                   \u239b\u03c1\u2081   \u03c1\u2082\u239e               \u23a4\n",
        "\u23a2l\u22c5\u239c\u2500\u2500 + \u2500\u2500\u239f  0  0  0  0  0  l\u22c5\u239c\u2500\u2500 + \u2500\u2500\u239f  0  0  0  0  0\u23a5\n",
        "\u23a3  \u239d12   12\u23a0                   \u239d12   4 \u23a0               \u23a6"
       ]
      }
     ],
     "prompt_number": 138
    },
    {
     "cell_type": "code",
     "collapsed": false,
     "input": [
      "me[1,:]"
     ],
     "language": "python",
     "metadata": {},
     "outputs": [
      {
       "output_type": "pyout",
       "prompt_number": 139,
       "text": [
        "\n",
        "\u23a1                              2                                              \n",
        "\u23a2     \u239b2\u22c5\u03c1\u2081   3\u22c5\u03c1\u2082\u239e           l \u22c5(15\u22c5\u03c1\u2081 + 7\u22c5\u03c1\u2082)       \u239b9\u22c5\u03c1\u2081   9\u22c5\u03c1\u2082\u239e           \n",
        "\u23a20  l\u22c5\u239c\u2500\u2500\u2500\u2500 + \u2500\u2500\u2500\u2500\u239f  0  0  0  \u2500\u2500\u2500\u2500\u2500\u2500\u2500\u2500\u2500\u2500\u2500\u2500\u2500\u2500\u2500\u2500\u2500  0  l\u22c5\u239c\u2500\u2500\u2500\u2500 + \u2500\u2500\u2500\u2500\u239f  0  0  0  \n",
        "\u23a3     \u239d 7      35 \u23a0                  420              \u239d140    140 \u23a0           \n",
        "\n",
        " 2               \u23a4\n",
        "l \u22c5(-7\u22c5\u03c1\u2081 - 6\u22c5\u03c1\u2082)\u23a5\n",
        "\u2500\u2500\u2500\u2500\u2500\u2500\u2500\u2500\u2500\u2500\u2500\u2500\u2500\u2500\u2500\u2500\u2500\u23a5\n",
        "       420       \u23a6"
       ]
      }
     ],
     "prompt_number": 139
    },
    {
     "cell_type": "markdown",
     "metadata": {},
     "source": [
      "Special case: rho1 == rho2"
     ]
    },
    {
     "cell_type": "code",
     "collapsed": false,
     "input": [
      "me.subs({rho2: rho1})/rho1"
     ],
     "language": "python",
     "metadata": {},
     "outputs": [
      {
       "output_type": "pyout",
       "prompt_number": 140,
       "text": [
        "\n",
        "\u23a1l                                    l                                  \u23a4\n",
        "\u23a2\u2500    0       0     0    0       0    \u2500    0       0     0    0      0   \u23a5\n",
        "\u23a23                                    6                                  \u23a5\n",
        "\u23a2                                                                        \u23a5\n",
        "\u23a2                                  2                                    2\u23a5\n",
        "\u23a2    13\u22c5l                      11\u22c5l       9\u22c5l                      -13\u22c5l \u23a5\n",
        "\u23a20   \u2500\u2500\u2500\u2500     0     0    0     \u2500\u2500\u2500\u2500\u2500  0   \u2500\u2500\u2500      0     0    0    \u2500\u2500\u2500\u2500\u2500\u2500\u23a5\n",
        "\u23a2     35                        210        70                       420  \u23a5\n",
        "\u23a2                                                                        \u23a5\n",
        "\u23a2                           2                                   2        \u23a5\n",
        "\u23a2            13\u22c5l      -11\u22c5l                      9\u22c5l       13\u22c5l         \u23a5\n",
        "\u23a20    0      \u2500\u2500\u2500\u2500   0  \u2500\u2500\u2500\u2500\u2500\u2500    0    0    0      \u2500\u2500\u2500    0  \u2500\u2500\u2500\u2500\u2500    0   \u23a5\n",
        "\u23a2             35        210                        70        420         \u23a5\n",
        "\u23a2                                                                        \u23a5\n",
        "\u23a20    0       0     0    0       0    0    0       0     0    0      0   \u23a5\n",
        "\u23a2                                                                        \u23a5\n",
        "\u23a2                2        3                           2        3         \u23a5\n",
        "\u23a2           -11\u22c5l        l                       -13\u22c5l       -l          \u23a5\n",
        "\u23a20    0     \u2500\u2500\u2500\u2500\u2500\u2500  0   \u2500\u2500\u2500      0    0    0     \u2500\u2500\u2500\u2500\u2500\u2500  0   \u2500\u2500\u2500     0   \u23a5\n",
        "\u23a2            210        105                       420        140         \u23a5\n",
        "\u23a2                                                                        \u23a5\n",
        "\u23a2       2                         3          2                        3  \u23a5\n",
        "\u23a2   11\u22c5l                         l       13\u22c5l                       -l   \u23a5\n",
        "\u23a20  \u2500\u2500\u2500\u2500\u2500     0     0    0      \u2500\u2500\u2500   0  \u2500\u2500\u2500\u2500\u2500     0     0    0     \u2500\u2500\u2500  \u23a5\n",
        "\u23a2    210                        105       420                       140  \u23a5\n",
        "\u23a2                                                                        \u23a5\n",
        "\u23a2l                                    l                                  \u23a5\n",
        "\u23a2\u2500    0       0     0    0       0    \u2500    0       0     0    0      0   \u23a5\n",
        "\u23a26                                    3                                  \u23a5\n",
        "\u23a2                                                                        \u23a5\n",
        "\u23a2                                  2                                    2\u23a5\n",
        "\u23a2    9\u22c5l                       13\u22c5l       13\u22c5l                     -11\u22c5l \u23a5\n",
        "\u23a20   \u2500\u2500\u2500      0     0    0     \u2500\u2500\u2500\u2500\u2500  0   \u2500\u2500\u2500\u2500     0     0    0    \u2500\u2500\u2500\u2500\u2500\u2500\u23a5\n",
        "\u23a2     70                        420        35                       210  \u23a5\n",
        "\u23a2                                                                        \u23a5\n",
        "\u23a2                           2                                   2        \u23a5\n",
        "\u23a2            9\u22c5l       -13\u22c5l                      13\u22c5l      11\u22c5l         \u23a5\n",
        "\u23a20    0      \u2500\u2500\u2500    0  \u2500\u2500\u2500\u2500\u2500\u2500    0    0    0      \u2500\u2500\u2500\u2500   0  \u2500\u2500\u2500\u2500\u2500    0   \u23a5\n",
        "\u23a2             70        420                        35        210         \u23a5\n",
        "\u23a2                                                                        \u23a5\n",
        "\u23a20    0       0     0    0       0    0    0       0     0    0      0   \u23a5\n",
        "\u23a2                                                                        \u23a5\n",
        "\u23a2               2         3                          2         3         \u23a5\n",
        "\u23a2           13\u22c5l        -l                       11\u22c5l         l          \u23a5\n",
        "\u23a20    0     \u2500\u2500\u2500\u2500\u2500   0   \u2500\u2500\u2500      0    0    0     \u2500\u2500\u2500\u2500\u2500   0   \u2500\u2500\u2500     0   \u23a5\n",
        "\u23a2            420        140                       210        105         \u23a5\n",
        "\u23a2                                                                        \u23a5\n",
        "\u23a2        2                        3           2                       3  \u23a5\n",
        "\u23a2   -13\u22c5l                       -l       -11\u22c5l                       l   \u23a5\n",
        "\u23a20  \u2500\u2500\u2500\u2500\u2500\u2500    0     0    0      \u2500\u2500\u2500   0  \u2500\u2500\u2500\u2500\u2500\u2500    0     0    0     \u2500\u2500\u2500  \u23a5\n",
        "\u23a3    420                        140       210                       105  \u23a6"
       ]
      }
     ],
     "prompt_number": 140
    },
    {
     "cell_type": "markdown",
     "metadata": {},
     "source": [
      "Generate the Python code to produce this element mass matrix:"
     ]
    },
    {
     "cell_type": "code",
     "collapsed": false,
     "input": [
      "print sympy.python(me)"
     ],
     "language": "python",
     "metadata": {},
     "outputs": [
      {
       "output_type": "stream",
       "stream": "stdout",
       "text": [
        "l = Symbol('l')\n",
        "rho_1 = Symbol('rho_1')\n",
        "rho_2 = Symbol('rho_2')\n",
        "e = Matrix([[l*(rho_1/4 + rho_2/12), 0, 0, 0, 0, 0, l*(rho_1/12 + rho_2/12), 0, 0, 0, 0, 0], [0, l*(2*rho_1/7 + 3*rho_2/35), 0, 0, 0, l**2*(15*rho_1 + 7*rho_2)/420, 0, l*(9*rho_1/140 + 9*rho_2/140), 0, 0, 0, l**2*(-7*rho_1 - 6*rho_2)/420], [0, 0, l*(2*rho_1/7 + 3*rho_2/35), 0, l**2*(-15*rho_1 - 7*rho_2)/420, 0, 0, 0, l*(9*rho_1/140 + 9*rho_2/140), 0, l**2*(7*rho_1 + 6*rho_2)/420, 0], [0, 0, 0, 0, 0, 0, 0, 0, 0, 0, 0, 0], [0, 0, l**2*(-15*rho_1 - 7*rho_2)/420, 0, l**3*(rho_1/168 + rho_2/280), 0, 0, 0, l**2*(-6*rho_1 - 7*rho_2)/420, 0, l**3*(-rho_1 - rho_2)/280, 0], [0, l**2*(15*rho_1 + 7*rho_2)/420, 0, 0, 0, l**3*(rho_1/168 + rho_2/280), 0, l**2*(6*rho_1 + 7*rho_2)/420, 0, 0, 0, l**3*(-rho_1 - rho_2)/280], [l*(rho_1/12 + rho_2/12), 0, 0, 0, 0, 0, l*(rho_1/12 + rho_2/4), 0, 0, 0, 0, 0], [0, l*(9*rho_1/140 + 9*rho_2/140), 0, 0, 0, l**2*(6*rho_1 + 7*rho_2)/420, 0, l*(3*rho_1/35 + 2*rho_2/7), 0, 0, 0, l**2*(-7*rho_1 - 15*rho_2)/420], [0, 0, l*(9*rho_1/140 + 9*rho_2/140), 0, l**2*(-6*rho_1 - 7*rho_2)/420, 0, 0, 0, l*(3*rho_1/35 + 2*rho_2/7), 0, l**2*(7*rho_1 + 15*rho_2)/420, 0], [0, 0, 0, 0, 0, 0, 0, 0, 0, 0, 0, 0], [0, 0, l**2*(7*rho_1 + 6*rho_2)/420, 0, l**3*(-rho_1 - rho_2)/280, 0, 0, 0, l**2*(7*rho_1 + 15*rho_2)/420, 0, l**3*(rho_1/280 + rho_2/168), 0], [0, l**2*(-7*rho_1 - 6*rho_2)/420, 0, 0, 0, l**3*(-rho_1 - rho_2)/280, 0, l**2*(-7*rho_1 - 15*rho_2)/420, 0, 0, 0, l**3*(rho_1/280 + rho_2/168)]])\n"
       ]
      }
     ],
     "prompt_number": 141
    },
    {
     "cell_type": "heading",
     "level": 3,
     "metadata": {},
     "source": [
      "Stiffness matrix"
     ]
    },
    {
     "cell_type": "markdown",
     "metadata": {},
     "source": [
      "Differentiate the shape functions:"
     ]
    },
    {
     "cell_type": "code",
     "collapsed": false,
     "input": [
      "B = Matrix(zeros((3, 12)))\n",
      "B[0, :] = S[0, :].diff(xi, 1) / l\n",
      "B[1, :] = S[1, :].diff(xi, 2) / l**2\n",
      "B[2, :] = S[2, :].diff(xi, 2) / l**2\n",
      "B.simplify()\n",
      "B"
     ],
     "language": "python",
     "metadata": {},
     "outputs": [
      {
       "output_type": "pyout",
       "prompt_number": 97,
       "text": [
        "\n",
        "\u23a1-1                                                          1                \n",
        "\u23a2\u2500\u2500       0            0       0       0             0       \u2500       0        \n",
        "\u23a2l                                                           l                \n",
        "\u23a2                                                                             \n",
        "\u23a2    6\u22c5(2\u22c5\u03be - 1)                                2\u22c5(3\u22c5\u03be - 2)     6\u22c5(-2\u22c5\u03be + 1)  \n",
        "\u23a20   \u2500\u2500\u2500\u2500\u2500\u2500\u2500\u2500\u2500\u2500\u2500       0       0       0        \u2500\u2500\u2500\u2500\u2500\u2500\u2500\u2500\u2500\u2500\u2500  0  \u2500\u2500\u2500\u2500\u2500\u2500\u2500\u2500\u2500\u2500\u2500\u2500  \n",
        "\u23a2          2                                         l                2       \n",
        "\u23a2         l                                                          l        \n",
        "\u23a2                                                                             \n",
        "\u23a2                 6\u22c5(2\u22c5\u03be - 1)     2\u22c5(-3\u22c5\u03be + 2)                                \n",
        "\u23a20        0       \u2500\u2500\u2500\u2500\u2500\u2500\u2500\u2500\u2500\u2500\u2500  0  \u2500\u2500\u2500\u2500\u2500\u2500\u2500\u2500\u2500\u2500\u2500\u2500       0       0       0        \n",
        "\u23a2                       2              l                                      \n",
        "\u23a3                      l                                                      \n",
        "\n",
        "                                          \u23a4\n",
        "     0        0       0             0     \u23a5\n",
        "                                          \u23a5\n",
        "                                          \u23a5\n",
        "                               2\u22c5(3\u22c5\u03be - 1)\u23a5\n",
        "     0        0       0        \u2500\u2500\u2500\u2500\u2500\u2500\u2500\u2500\u2500\u2500\u2500\u23a5\n",
        "                                    l     \u23a5\n",
        "                                          \u23a5\n",
        "                                          \u23a5\n",
        "6\u22c5(-2\u22c5\u03be + 1)     2\u22c5(-3\u22c5\u03be + 1)             \u23a5\n",
        "\u2500\u2500\u2500\u2500\u2500\u2500\u2500\u2500\u2500\u2500\u2500\u2500  0  \u2500\u2500\u2500\u2500\u2500\u2500\u2500\u2500\u2500\u2500\u2500\u2500       0     \u23a5\n",
        "      2               l                   \u23a5\n",
        "     l                                    \u23a6"
       ]
      }
     ],
     "prompt_number": 97
    },
    {
     "cell_type": "code",
     "collapsed": false,
     "input": [
      "titles = ['x-defl', 'y-defl', 'z-defl']\n",
      "for i in range(3):\n",
      "    sympy.plot(*([xx.subs(l, 2) for xx in B[i,:] if xx != 0] + [(xi, 0, 1)]), \n",
      "               title=titles[i])"
     ],
     "language": "python",
     "metadata": {},
     "outputs": [
      {
       "output_type": "display_data",
       "png": "[encoded data removed]",
       "text": [
        "Figure(480x320)"
       ]
      },
      {
       "output_type": "display_data",
       "png": "[encoded data removed]",
       "text": [
        "Figure(480x320)"
       ]
      },
      {
       "output_type": "display_data",
       "png": "[encoded data removed]",
       "text": [
        "Figure(480x320)"
       ]
      }
     ],
     "prompt_number": 122
    },
    {
     "cell_type": "markdown",
     "metadata": {},
     "source": [
      "Define the stiffness distribution (linear):"
     ]
    },
    {
     "cell_type": "code",
     "collapsed": false,
     "input": [
      "EA1, EA2, EI1, EI2 = symbols('EA_1, EA_2, EI_1, EI_2')\n",
      "EA = (1 - xi)*EA1 + xi*EA2\n",
      "EI = (1 - xi)*EI1 + xi*EI2\n",
      "EA, EI"
     ],
     "language": "python",
     "metadata": {},
     "outputs": [
      {
       "latex": [
        "$$\\begin{pmatrix}EA_{1} \\left(- \\xi + 1\\right) + EA_{2} \\xi, & EI_{1} \\left(- \\xi + 1\\right) + EI_{2} \\xi\\end{pmatrix}$$"
       ],
       "output_type": "pyout",
       "prompt_number": 123,
       "text": [
        "(EA\u2081\u22c5(-\u03be + 1) + EA\u2082\u22c5\u03be, EI\u2081\u22c5(-\u03be + 1) + EI\u2082\u22c5\u03be)"
       ]
      }
     ],
     "prompt_number": 123
    },
    {
     "cell_type": "code",
     "collapsed": false,
     "input": [
      "def sym_ke():\n",
      "    E = Matrix(diag([EA, EI, EI]))\n",
      "    integrand = B.T * E * B\n",
      "    ke = integrand.applyfunc(\n",
      "        lambda xxx: l * sympy.integrate(xxx, (xi, 0, 1)).expand().simplify()\n",
      "    )\n",
      "    return ke\n",
      "ke = sym_ke()\n",
      "ke.shape"
     ],
     "language": "python",
     "metadata": {},
     "outputs": [
      {
       "latex": [
        "$$\\begin{pmatrix}12, & 12\\end{pmatrix}$$"
       ],
       "output_type": "pyout",
       "prompt_number": 131,
       "text": [
        "(12, 12)"
       ]
      }
     ],
     "prompt_number": 131
    },
    {
     "cell_type": "code",
     "collapsed": false,
     "input": [
      "ke[0,:]"
     ],
     "language": "python",
     "metadata": {},
     "outputs": [
      {
       "output_type": "pyout",
       "prompt_number": 132,
       "text": [
        "\n",
        "\u23a1EA\u2081 + EA\u2082                 -(EA\u2081 + EA\u2082)               \u23a4\n",
        "\u23a2\u2500\u2500\u2500\u2500\u2500\u2500\u2500\u2500\u2500  0  0  0  0  0  \u2500\u2500\u2500\u2500\u2500\u2500\u2500\u2500\u2500\u2500\u2500\u2500  0  0  0  0  0\u23a5\n",
        "\u23a3   2\u22c5l                        2\u22c5l                    \u23a6"
       ]
      }
     ],
     "prompt_number": 132
    },
    {
     "cell_type": "code",
     "collapsed": false,
     "input": [
      "ke[1,:]"
     ],
     "language": "python",
     "metadata": {},
     "outputs": [
      {
       "output_type": "pyout",
       "prompt_number": 133,
       "text": [
        "\n",
        "\u23a1   6\u22c5(EI\u2081 + EI\u2082)           2\u22c5(2\u22c5EI\u2081 + EI\u2082)     -(6\u22c5EI\u2081 + 6\u22c5EI\u2082)           2\u22c5(\n",
        "\u23a20  \u2500\u2500\u2500\u2500\u2500\u2500\u2500\u2500\u2500\u2500\u2500\u2500\u2500  0  0  0  \u2500\u2500\u2500\u2500\u2500\u2500\u2500\u2500\u2500\u2500\u2500\u2500\u2500\u2500\u2500  0  \u2500\u2500\u2500\u2500\u2500\u2500\u2500\u2500\u2500\u2500\u2500\u2500\u2500\u2500\u2500\u2500  0  0  0  \u2500\u2500\u2500\n",
        "\u23a2          3                        2                   3                     \n",
        "\u23a3         l                        l                   l                      \n",
        "\n",
        "EI\u2081 + 2\u22c5EI\u2082)\u23a4\n",
        "\u2500\u2500\u2500\u2500\u2500\u2500\u2500\u2500\u2500\u2500\u2500\u2500\u23a5\n",
        "     2      \u23a5\n",
        "    l       \u23a6"
       ]
      }
     ],
     "prompt_number": 133
    },
    {
     "cell_type": "markdown",
     "metadata": {},
     "source": [
      "Special case: uniform stiffness."
     ]
    },
    {
     "cell_type": "code",
     "collapsed": false,
     "input": [
      "(ke.subs({EA1: 1, EA2: 1, EI1: 1, EI2: 1}) * l**4)"
     ],
     "language": "python",
     "metadata": {},
     "outputs": [
      {
       "output_type": "pyout",
       "prompt_number": 134,
       "text": [
        "\n",
        "\u23a1 3                                    3                               \u23a4\n",
        "\u23a2l      0      0    0    0      0    -l     0      0    0    0      0  \u23a5\n",
        "\u23a2                                                                      \u23a5\n",
        "\u23a2                                2                                   2 \u23a5\n",
        "\u23a2 0   12\u22c5l     0    0    0    6\u22c5l     0   -12\u22c5l    0    0    0    6\u22c5l  \u23a5\n",
        "\u23a2                                                                      \u23a5\n",
        "\u23a2                          2                                   2       \u23a5\n",
        "\u23a2 0     0    12\u22c5l   0  -6\u22c5l     0     0     0    -12\u22c5l  0  -6\u22c5l     0  \u23a5\n",
        "\u23a2                                                                      \u23a5\n",
        "\u23a2 0     0      0    0    0      0     0     0      0    0    0      0  \u23a5\n",
        "\u23a2                                                                      \u23a5\n",
        "\u23a2                2        3                         2         3        \u23a5\n",
        "\u23a2 0     0    -6\u22c5l   0  4\u22c5l      0     0     0    6\u22c5l    0  2\u22c5l      0  \u23a5\n",
        "\u23a2                                                                      \u23a5\n",
        "\u23a2        2                       3            2                      3 \u23a5\n",
        "\u23a2 0   6\u22c5l      0    0    0    4\u22c5l     0   -6\u22c5l     0    0    0    2\u22c5l  \u23a5\n",
        "\u23a2                                                                      \u23a5\n",
        "\u23a2  3                                  3                                \u23a5\n",
        "\u23a2-l     0      0    0    0      0    l      0      0    0    0      0  \u23a5\n",
        "\u23a2                                                                      \u23a5\n",
        "\u23a2                                 2                                   2\u23a5\n",
        "\u23a2 0   -12\u22c5l    0    0    0    -6\u22c5l    0   12\u22c5l     0    0    0    -6\u22c5l \u23a5\n",
        "\u23a2                                                                      \u23a5\n",
        "\u23a2                         2                                   2        \u23a5\n",
        "\u23a2 0     0    -12\u22c5l  0  6\u22c5l      0     0     0    12\u22c5l   0  6\u22c5l      0  \u23a5\n",
        "\u23a2                                                                      \u23a5\n",
        "\u23a2 0     0      0    0    0      0     0     0      0    0    0      0  \u23a5\n",
        "\u23a2                                                                      \u23a5\n",
        "\u23a2                2        3                         2         3        \u23a5\n",
        "\u23a2 0     0    -6\u22c5l   0  2\u22c5l      0     0     0    6\u22c5l    0  4\u22c5l      0  \u23a5\n",
        "\u23a2                                                                      \u23a5\n",
        "\u23a2        2                       3            2                      3 \u23a5\n",
        "\u23a3 0   6\u22c5l      0    0    0    2\u22c5l     0   -6\u22c5l     0    0    0    4\u22c5l  \u23a6"
       ]
      }
     ],
     "prompt_number": 134
    },
    {
     "cell_type": "markdown",
     "metadata": {},
     "source": [
      "Generate Python code to calculate this matrix:"
     ]
    },
    {
     "cell_type": "code",
     "collapsed": false,
     "input": [
      "print sympy.python(ke)"
     ],
     "language": "python",
     "metadata": {},
     "outputs": [
      {
       "output_type": "stream",
       "stream": "stdout",
       "text": [
        "EA_1 = Symbol('EA_1')\n",
        "EA_2 = Symbol('EA_2')\n",
        "l = Symbol('l')\n",
        "EI_1 = Symbol('EI_1')\n",
        "EI_2 = Symbol('EI_2')\n",
        "e = Matrix([[(EA_1 + EA_2)/(2*l), 0, 0, 0, 0, 0, -(EA_1 + EA_2)/(2*l), 0, 0, 0, 0, 0], [0, 6*(EI_1 + EI_2)/l**3, 0, 0, 0, 2*(2*EI_1 + EI_2)/l**2, 0, -(6*EI_1 + 6*EI_2)/l**3, 0, 0, 0, 2*(EI_1 + 2*EI_2)/l**2], [0, 0, 6*(EI_1 + EI_2)/l**3, 0, -(4*EI_1 + 2*EI_2)/l**2, 0, 0, 0, -(6*EI_1 + 6*EI_2)/l**3, 0, -(2*EI_1 + 4*EI_2)/l**2, 0], [0, 0, 0, 0, 0, 0, 0, 0, 0, 0, 0, 0], [0, 0, -(4*EI_1 + 2*EI_2)/l**2, 0, (3*EI_1 + EI_2)/l, 0, 0, 0, 2*(2*EI_1 + EI_2)/l**2, 0, (EI_1 + EI_2)/l, 0], [0, 2*(2*EI_1 + EI_2)/l**2, 0, 0, 0, (3*EI_1 + EI_2)/l, 0, -(4*EI_1 + 2*EI_2)/l**2, 0, 0, 0, (EI_1 + EI_2)/l], [-(EA_1 + EA_2)/(2*l), 0, 0, 0, 0, 0, (EA_1 + EA_2)/(2*l), 0, 0, 0, 0, 0], [0, -(6*EI_1 + 6*EI_2)/l**3, 0, 0, 0, -(4*EI_1 + 2*EI_2)/l**2, 0, 6*(EI_1 + EI_2)/l**3, 0, 0, 0, -(2*EI_1 + 4*EI_2)/l**2], [0, 0, -(6*EI_1 + 6*EI_2)/l**3, 0, 2*(2*EI_1 + EI_2)/l**2, 0, 0, 0, 6*(EI_1 + EI_2)/l**3, 0, 2*(EI_1 + 2*EI_2)/l**2, 0], [0, 0, 0, 0, 0, 0, 0, 0, 0, 0, 0, 0], [0, 0, -(2*EI_1 + 4*EI_2)/l**2, 0, (EI_1 + EI_2)/l, 0, 0, 0, 2*(EI_1 + 2*EI_2)/l**2, 0, (EI_1 + 3*EI_2)/l, 0], [0, 2*(EI_1 + 2*EI_2)/l**2, 0, 0, 0, (EI_1 + EI_2)/l, 0, -(2*EI_1 + 4*EI_2)/l**2, 0, 0, 0, (EI_1 + 3*EI_2)/l]])\n"
       ]
      }
     ],
     "prompt_number": 135
    },
    {
     "cell_type": "code",
     "collapsed": false,
     "input": [],
     "language": "python",
     "metadata": {},
     "outputs": []
    }
   ],
   "metadata": {}
  }
 ]
}