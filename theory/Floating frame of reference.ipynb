{
 "metadata": {
  "name": ""
 },
 "nbformat": 3,
 "nbformat_minor": 0,
 "worksheets": [
  {
   "cells": [
    {
     "cell_type": "heading",
     "level": 2,
     "metadata": {},
     "source": [
      "Kinematics"
     ]
    },
    {
     "cell_type": "markdown",
     "metadata": {},
     "source": [
      "$ \\newcommand{\\b}[1]{\\boldsymbol{#1}} \\newcommand{\\bt}[1]{\\b{\\tilde{#1}}} $\n",
      "$ \\newcommand{\\sint}{\\b{S}} \\newcommand{\\qn}{\\b{q}_n} \\newcommand{\\Bqfd}{\\b{B}_2 \\b{\\dot q}_f} $\n",
      "In global coordinates, the position of a point on the body is\n",
      "\n",
      "$$ \\b{r} = \\b{R} + \\b{AX} $$\n",
      "\n",
      "where $\\b{R}$ is the position of the reference coordinate system, $\\b A$ is the transformation matrix from body to global coordinates, and $\\b X$ is the position of the point within the body coordinate system.\n",
      "\n",
      "Differentiating gives\n",
      "\\begin{align}\n",
      "\\b{\\dot r}  &= \\b{\\dot  R} + \\b{\\tilde{\\omega}} \\b{AX} + \\b{A \\dot{X}} \\\\\n",
      "\\b{\\ddot r} &= \\b{\\ddot R} + \\left( \\b{\\tilde{\\omega}\\tilde{\\omega}} + \\b{\\dot{\\tilde{\\omega}}} \\right) \\b{AX} +\n",
      "  2 \\b{\\tilde{\\omega} A \\dot{X}} + \\b{A \\ddot{X}}\n",
      "\\end{align}\n",
      "\n",
      "where $\\b{\\omega}$ is the angular velocity of the body in the global frame, and the tilde indicates the skew-symmetric matrix giving the cross product, i.e. $\\b{\\tilde{a} b} = \\b{a} \\times \\b{b}$."
     ]
    },
    {
     "cell_type": "heading",
     "level": 3,
     "metadata": {},
     "source": [
      "Discretisation"
     ]
    },
    {
     "cell_type": "markdown",
     "metadata": {},
     "source": [
      "The body is assumed to be made up of finite elements, all of which are capable of representing a rigid-body translation of the element such that the undeflected position of the element can be described by the same interpolation functions as are used for the displacement. The finite element shape functions are $\\b{\\hat N}^j$, so that within element $j$, the deformed position is $\\b{w}^j = \\b{\\hat N}^j \\b{e}^j$.\n",
      "The nodal coordinates consist of the values $\\b{e}_0^j$ in the undeflected state plus the deflections $\\b{e}_f^j$.\n",
      "\n",
      "In general the finite element coordinate system will not be aligned with the main body coordinate system, so we introduce a transformation matrix $\\b{C}_X^j$ to transform the local element deflections $\\b{w}^j$ into deflections in the body coordinates $\\b{X}^j$, and another transformation matrix $\\b{C}_q^j$ to transform the nodal coordinates in the body coordinate system $\\b{q}_n^j$ into local element coordinates $\\b{e}^j$. So\n",
      "$$ \\b{X}^j = \\b{C}_X^j \\b{\\hat N}^j \\b{C}_q^j \\b{q}_n^j $$\n",
      "\n",
      "Connectivity is expressed by a Boolean matrix $\\b{B}_1$ so that $\\b{q}_n^j = \\b{B}_1^j \\b{q}_n$, so \n",
      "$$ \\b{X}^j = \\b{C}_X^j \\b{\\hat N}^j \\b{C}_q^j \\b{B}_1^j \\b{q}_n = \\b{N}^j \\b{q}_n $$"
     ]
    },
    {
     "cell_type": "heading",
     "level": 3,
     "metadata": {},
     "source": [
      "Assembly"
     ]
    },
    {
     "cell_type": "markdown",
     "metadata": {},
     "source": [
      "Below, the forces on a single element will be calculated and the superscript $j$ will be omitted. Once the element forces have been found, the forces on the whole body are easily found by summing the individual finite element shape functions."
     ]
    },
    {
     "cell_type": "heading",
     "level": 3,
     "metadata": {},
     "source": [
      "Reference conditions"
     ]
    },
    {
     "cell_type": "markdown",
     "metadata": {},
     "source": [
      "The nodal coordinates consist of the values $\\b{q}_0$ in the undeflected state plus the deflections $\\b{q}_f$, that is $\\b{q}_n = \\b{q}_0 + \\b{\\bar q}_f$.\n",
      "\n",
      "The finite elements must be somehow attached to the reference coordinates, and this is described by a matrix $\\b{B}_2$ so that $\\b{\\bar{q}}_f = \\b{B}_2 \\b{q}_f$:\n",
      "$$ \\b{q}_n = \\b{q}_0 + \\b{B}_2 \\b{q}_f $$"
     ]
    },
    {
     "cell_type": "heading",
     "level": 3,
     "metadata": {},
     "source": [
      "Generalised coordinates"
     ]
    },
    {
     "cell_type": "markdown",
     "metadata": {},
     "source": [
      "The generalised coordinate velocities of the body are $\\b{\\dot q}^T = \\begin{bmatrix}\n",
      "\\b{\\dot R}^T & \\b{\\omega}^T & \\b{q}_f^T \\end{bmatrix}$, so the velocity and acceleration of a point on the body can be written as\n",
      "\\begin{align}\n",
      "\\b{\\dot r}  &= \\b{L} \\b{\\dot q} \\\\\n",
      "\\b{\\ddot r} &= \\b{L} \\b{\\ddot q} + \\b{\\dot L} \\b{\\dot q}\n",
      "\\end{align}\n",
      "in which the matrix $\\b{L}$ and its derivative are defined as\n",
      "\\begin{align}\n",
      "\\b{L}      &= \\begin{bmatrix}  \\b{I}  &  -\\b{\\tilde{x}}                &  \\b{A N} \\b{B}_2         \\end{bmatrix}  \\\\\n",
      "\\b{\\dot L} &= \\begin{bmatrix}  \\b{0}  &  -\\b{\\tilde{\\omega}\\tilde{x}}  &  2\\b{\\tilde{\\omega} A N} \\b{B}_2  \\end{bmatrix}\n",
      "\\end{align}\n",
      "where $\\b{x} = \\b{AX}$ is the relative position of the point in the global coordinate system."
     ]
    },
    {
     "cell_type": "heading",
     "level": 2,
     "metadata": {},
     "source": [
      "Inertial forces"
     ]
    },
    {
     "cell_type": "markdown",
     "metadata": {},
     "source": [
      "The virtual work of the inertial forces on the body is\n",
      "$$ \\delta W_i = \\int \\delta\\b{r}^T \\b{\\ddot r} \\mathrm{d}m \n",
      "= \\delta\\b{q}^T \\int \\b{L}^T \\left( \\b{L} \\b{\\ddot q} + \\b{\\dot L} \\b{\\dot q} \\right) \\mathrm{d}m$$\n",
      "\n",
      "The first term leads to the mass matrix, while the second gives the velocity-dependent inertial forces."
     ]
    },
    {
     "cell_type": "heading",
     "level": 3,
     "metadata": {},
     "source": [
      "Mass matrix"
     ]
    },
    {
     "cell_type": "markdown",
     "metadata": {},
     "source": [
      "$$\n",
      "\\b{M} = \\int \\begin{bmatrix}\n",
      "\\b{I} & -\\b{\\tilde{x}}          &           \\b{A N}\\b{B}_2         \\\\\n",
      "\\cdot & -\\b{\\tilde{x}\\tilde{x}} & \\b{\\tilde{x} A N}\\b{B}_2         \\\\\n",
      "\\cdot &  \\cdot                  & \\b{B}_2^T \\b{N}^T \\b{N} \\b{B}_2\n",
      "\\end{bmatrix}\n",
      "\\,\\mathrm{d}m = \\begin{bmatrix}\n",
      "\\b{M}_{RR} & \\b{M}_{R\\omega}      & \\b{M}_{Rf}       \\\\\n",
      "\\cdot      & \\b{M}_{\\omega\\omega} & \\b{M}_{\\omega f} \\\\\n",
      "\\cdot      & \\cdot                & \\b{M}_{ff}\n",
      "\\end{bmatrix}\n",
      "$$"
     ]
    },
    {
     "cell_type": "markdown",
     "metadata": {},
     "source": [
      "The parts of the mass matrix are as follows.\n",
      "\n",
      "The first part is just the mass of the body:\n",
      "$$\\b{M}_{RR} = \\int \\mathrm{d}m \\, \\b{I}$$\n",
      "\n",
      "The part which couples translation and rotation of the reference is:\n",
      "$$\\b{M}_{R\\omega} = - \\int \\b{\\tilde{x}} \\mathrm{d}m = - \\b{A \\tilde{Y} A}^T $$\n",
      "where $\\b{Y} = \\int \\b{X} \\mathrm{d}m = \\sint \\b{q}_n$ and $\\sint$ is a constant integral, $\\sint = \\int \\b{N} \\mathrm{d}m$.\n",
      "\n",
      "The part which couples reference translation and the elastic deformation is:\n",
      "$$\\b{M}_{Rf} = \\b{A} \\int \\b{N} \\mathrm{d}m \\, \\b{B}_2\n",
      "= \\b{A} \\sint \\b{B}_2 $$\n",
      "\n",
      "The inertia tensor in global coordinates is:\n",
      "$$\\b{M}_{\\omega\\omega} = \\int \\b{\\tilde{x}}^T \\b{\\tilde{x}} \\mathrm{d}m\n",
      "= \\b{A} \\int \\b{\\tilde{X}}^T \\b{\\tilde{X}} \\mathrm{d}m \\, \\b{A}^T\n",
      "= \\b{A J A}^T $$\n",
      "and by expanding the skew-symmetric matrices, the symmetric inertia tensor in body-fixed coordinates is:\n",
      "$$ \\b{J} = \\begin{bmatrix}\n",
      "\\qn^T \\left(\\sint_{22} + \\sint_{33}\\right) \\qn  &  -\\qn^T \\sint_{21} \\qn  &  -\\qn^T \\sint_{31} \\qn  \\\\\n",
      "\\cdot  &  \\qn^T \\left(\\sint_{33} + \\sint_{11}\\right) \\qn  &  -\\qn^T \\sint_{32} \\qn    \\\\\n",
      "\\cdot  &  \\cdot  &  \\qn^T \\left(\\sint_{11} + \\sint_{22}\\right) \\qn\n",
      "\\end{bmatrix} $$\n",
      "where $\\sint_{kl}$ is another constant integral, $\\sint_{kl} = \\int \\b{N}_k^T \\b{N}_l \\mathrm{d}m$.\n",
      "\n",
      "The part which couples reference rotation and the elastic deformation is:\n",
      "$$\\b{M}_{\\omega f} = \\b{A} \\b{I}_{\\Omega f} \\b{B}_2$$\n",
      "where\n",
      "$$ \\b{I}_{\\Omega f} = \\int \\b{\\tilde{X} N} \\mathrm{d}m\n",
      "= \\int \\begin{bmatrix}\n",
      "X_2 \\b{N}_3 - X_3 \\b{N}_2  \\\\\n",
      "X_3 \\b{N}_1 - X_1 \\b{N}_3  \\\\\n",
      "X_1 \\b{N}_2 - X_2 \\b{N}_1  \\end{bmatrix} \n",
      "= \\begin{bmatrix}\n",
      "\\qn^T \\b{\\hat{S}}_{23}  \\\\\n",
      "\\qn^T \\b{\\hat{S}}_{31}  \\\\\n",
      "\\qn^T \\b{\\hat{S}}_{12}  \\end{bmatrix}\n",
      "$$\n",
      "where $\\b{N}_i$ and $X_j$ are the $i$th row of $\\b{N}$ and the $j$th element of $\\b{X}$ respectively, and $\\b{\\hat{S}}_{kl} = \\left( \\sint_{kl} - \\sint_{kl}^T \\right)$\n",
      "\n",
      "Finally the part relating to the elastic deformations is\n",
      "$$\\b{M}_{ff} = \\b{B}_2^T \\int \\b{N}^T \\b{N} \\mathrm{d}m \\, \\b{B}_2\n",
      "= \\b{B}_2^T \\left( \\sint_{11} + \\sint_{22} + \\sint_{33} \\right) \\b{B}_2 $$\n",
      "\n",
      "These expressions are all identical to those in Shabana (2005), apart from the use of $\\b{B}_2$ to describe the reference conditions (Shabana, 2012)."
     ]
    },
    {
     "cell_type": "heading",
     "level": 3,
     "metadata": {},
     "source": [
      "Velocity-dependent forces"
     ]
    },
    {
     "cell_type": "markdown",
     "metadata": {},
     "source": [
      "The velocity-dependent forces are given by\n",
      "\n",
      "$$ \\b{Q}_v \n",
      "= \\begin{bmatrix} \\b{Q}_v^R \\\\ \\b{Q}_v^{\\omega} \\\\ \\b{Q}_v^f \\end{bmatrix}\n",
      "= -\\int \\b{L}^T \\left( \\b{\\dot{L} \\dot{q}} \\right) \\mathrm{d}m\n",
      "= \\int \\begin{bmatrix}\n",
      "\\b{\\tilde{\\omega}\\tilde{x}\\omega} - 2 \\b{\\tilde{\\omega} A N} \\Bqfd  \\\\\n",
      "-\\b{\\tilde{x}}^T \\b{\\tilde{\\omega}\\tilde{x}\\omega} - 2 \\b{\\tilde{x}\\tilde{\\omega} A N}\\Bqfd  \\\\\n",
      "\\left(\\b{A N} \\b{B}_2\\right)^T \\b{\\tilde{\\omega}\\tilde{x}\\omega} - 2 \\left(\\b{A N} \\b{B}_2\\right)^T \\b{\\tilde{\\omega} A N} \\Bqfd\n",
      "\\end{bmatrix} \\mathrm{d}m\n",
      "$$"
     ]
    },
    {
     "cell_type": "markdown",
     "metadata": {},
     "source": [
      "From the results above, the first part is\n",
      "$$ \\b{Q}_v^R = -\\b{A} \\left( -\\b{\\tilde{\\Omega} \\tilde{Y} \\Omega} +\n",
      "2\\b{\\tilde{\\Omega} S} \\Bqfd \\right) $$\n",
      "\n",
      "To find $\\b{Q}_v^{\\omega}$, we make use of the identity that for two vectors $\\bt{a}^T \\bt{b} \\bt{a} \\b{b} = \\bt{b} \\bt{a}^T \\bt{a} \\b{b}$, so that \n",
      "$\\int \\b{\\tilde{x}}^T \\b{\\tilde{\\omega}\\tilde{x}\\omega} \\, \\mathrm{d}m = \n",
      "\\int \\b{\\tilde{\\omega}\\tilde{x}}^T \\b{\\tilde{x}\\omega} \\, \\mathrm{d}m = \n",
      "\\b{\\tilde{\\omega} j \\omega} =\n",
      "\\b{A \\tilde{\\Omega} J \\Omega}$. \n",
      "For the second term, rewrite it using the position and angular velocity in the local frame to give \n",
      "$2 \\b{\\tilde{x}\\tilde{\\omega} A N}\\Bqfd =\n",
      "2 \\b{A \\tilde{X}\\tilde{\\Omega} N}\\Bqfd$. The integral of this may be expanded as\n",
      "$$\n",
      "\\int \\b{\\tilde{X}\\tilde{\\Omega} N}\\Bqfd \\, \\mathrm{d}m =\n",
      "\\int \\b{\\tilde{X}\\tilde{\\Omega} \\dot{X}} \\, \\mathrm{d}m =\n",
      "\\int \\b{\\tilde{X}}^T \\b{\\dot{\\tilde X}} \\, \\mathrm{d}m \\b{\\Omega} =\n",
      "\\frac{1}{2} \\b{\\dot{J} \\Omega} + \\frac{1}{2} \\b{\\tilde \\Omega} \\b{I}_{\\Omega f} \\Bqfd\n",
      "$$\n",
      "(more details are given by Shabana, 2013).\n",
      "\n",
      "So the second part of $\\b{Q}_v$ is\n",
      "$$ \\b{Q}_v^{\\omega} = - \\b{A} \\left(\n",
      "\\b{\\tilde{\\Omega} J \\Omega} +\n",
      "\\b{\\dot{J} \\Omega} +\n",
      "\\b{\\tilde{\\Omega}} \\b{I}_{\\Omega f} \\Bqfd\n",
      "\\right)\n",
      "$$\n",
      "where\n",
      "$$ \\b{\\dot{J}} = \\begin{bmatrix}\n",
      "2\\qn^T \\left(\\sint_{22} + \\sint_{33}\\right)\\Bqfd  &  -\\qn^T \\left(\\sint_{21} + \\sint_{12}\\right)\\Bqfd  &  -\\qn^T \\left(\\sint_{31} + \\sint_{31}^T\\right)\\Bqfd  \\\\\n",
      "\\cdot  &  2\\qn^T \\left(\\sint_{33} + \\sint_{11}\\right)\\Bqfd  &  -\\qn^T \\left(\\sint_{32} + \\sint_{32}^T \\right)\\Bqfd    \\\\\n",
      "\\cdot  &  \\cdot  &  2\\qn^T \\left(\\sint_{11} + \\sint_{22}\\right)\\Bqfd\n",
      "\\end{bmatrix}\n",
      "$$"
     ]
    },
    {
     "cell_type": "markdown",
     "metadata": {},
     "source": [
      "This is the form of the expression given by Shabana (2005, 2013). For ease of calculation of this and the following force term, however, the 2nd and 3rd terms of $\\b{Q}_v^{\\omega}$ can be combined such that\n",
      "$$ 2 \\b{I}_{\\Omega f}^{\\prime} \\Bqfd = \n",
      "\\b{\\dot{J} \\Omega} +\n",
      "\\b{\\tilde{\\Omega}} \\b{I}_{\\Omega f} \\Bqfd\n",
      "$$\n",
      "where\n",
      "$$ \\b{I}_{\\Omega f}^{\\prime} = \\int \\b{\\tilde{X}\\tilde{\\Omega} N} \\, \\mathrm{d}m\n",
      "= \\begin{bmatrix}\n",
      "\\qn^T \\left( \\Omega_1 \\left(\\sint_{22} + \\sint_{33}\\right) -\n",
      "             \\Omega_2 \\sint_{21} - \\Omega_3 \\sint_{31} \\right)  \\\\\n",
      "\\qn^T \\left( \\Omega_2 \\left(\\sint_{33} + \\sint_{11}\\right) -\n",
      "             \\Omega_3 \\sint_{32} - \\Omega_1 \\sint_{12} \\right)  \\\\\n",
      "\\qn^T \\left( \\Omega_3 \\left(\\sint_{11} + \\sint_{22}\\right) -\n",
      "             \\Omega_1 \\sint_{13} - \\Omega_2 \\sint_{23} \\right)  \\\\\n",
      "\\end{bmatrix}\n",
      "$$\n",
      "which gives\n",
      "$$ \\b{Q}_v^{\\omega} = - \\b{A} \\left(\n",
      "\\b{\\tilde{\\Omega} J \\Omega} +\n",
      "2 \\b{I}_{\\Omega f}^{\\prime} \\Bqfd\n",
      "\\right)\n",
      "$$"
     ]
    },
    {
     "cell_type": "markdown",
     "metadata": {},
     "source": [
      "To find $\\b{Q}_v^f$, take the transpose of the first term:\n",
      "$$ \\left[ \\left(\\b{A N} \\b{B}_2\\right)^T \\b{\\tilde{\\omega}\\tilde{x}\\omega} \\right]^T = \n",
      "\\b{\\omega}^T \\b{\\tilde{x}}^T \\b{\\tilde{\\omega}}^T \\b{A N} \\b{B}_2 = \n",
      "\\b{\\Omega}^T \\b{\\tilde{X} \\tilde{\\Omega} N} \\b{B}_2\n",
      "$$\n",
      "The integral of this is\n",
      "$$ \\b{\\Omega}^T \\int \\b{\\tilde{X} \\tilde{\\Omega} N} \\mathrm{d}m \\, \\b{B}_2 =\n",
      "\\b{\\Omega}^T \\b{I}_{\\Omega f}^{\\prime} \\b{B}_2\n",
      "$$\n",
      "\n",
      "The second term expands to $2 \\b{B}_2^T \\b{N}^T \\b{A}^T \\b{\\tilde{\\omega} A N} \\b{B}_2 = 2 \\b{B}_2^T \\b{N}^T \\b{\\tilde{\\Omega} N} \\b{B}_2$, for which the following integral is needed:\n",
      "$$\n",
      "-\\int \\b{N}^T \\b{\\tilde{\\Omega} N} \\,\\mathrm{d}m =\n",
      "-\\int \\b{N}^T \\begin{bmatrix}\n",
      "\\Omega_2 \\b{N}_3 - \\Omega_3 \\b{N}_2 \\\\\n",
      "\\Omega_3 \\b{N}_1 - \\Omega_1 \\b{N}_3 \\\\\n",
      "\\Omega_1 \\b{N}_2 - \\Omega_2 \\b{N}_1 \\end{bmatrix} =\n",
      "\\Omega_1 \\b{\\hat{S}}_{23} + \\Omega_2 \\b{\\hat{S}}_{31} + \\Omega_3 \\b{\\hat{S}}_{12}\n",
      "$$\n",
      "\n",
      "So the third part of $\\b{Q}_v$ is\n",
      "$$ \\b{Q}_v^f = \n",
      "\\b{B}_2^T \\b{I}_{\\Omega f}^{\\prime T} \\b{\\Omega} +\n",
      "2 \\b{B}_2^T \\left(\\Omega_1 \\b{\\hat{S}}_{23} + \\Omega_2 \\b{\\hat{S}}_{31} + \\Omega_3 \\b{\\hat{S}}_{12}\\right)  \\Bqfd\n",
      "$$"
     ]
    },
    {
     "cell_type": "heading",
     "level": 4,
     "metadata": {},
     "source": [
      "Comparison with other references"
     ]
    },
    {
     "cell_type": "markdown",
     "metadata": {},
     "source": [
      "Together, the above expressions for the velocity dependent forces are:\n",
      "\\begin{align}\n",
      "\\b{Q}_v^R        &= -\\b{A} \\left( -\\b{\\tilde{\\Omega} \\tilde{Y} \\Omega} +\n",
      "2\\b{\\tilde{\\Omega} S} \\Bqfd \\right)  \\\\\n",
      "\\b{Q}_v^{\\omega} &= - \\b{A} \\left(\n",
      "\\b{\\tilde{\\Omega} J \\Omega} +\n",
      "2 \\b{I}_{\\Omega f}^{\\prime} \\Bqfd\n",
      "\\right)  \\\\\n",
      "\\b{Q}_v^f        &= \\b{B}_2^T \\left[ \\b{I}_{\\Omega f}^{\\prime T} \\b{\\Omega}  +  2 \\left(\\Omega_1 \\b{\\hat{S}}_{23} + \\Omega_2 \\b{\\hat{S}}_{31} + \\Omega_3 \\b{\\hat{S}}_{12}\\right) \\Bqfd \\right]\n",
      "\\end{align}"
     ]
    },
    {
     "cell_type": "markdown",
     "metadata": {},
     "source": [
      "The expression for $\\b{Q}_v^R$ is clearly the same as Shabana (2005) and Lugris et al (2009).\n",
      "\n",
      "The first expression for $\\b{Q}_v^{\\omega}$ is also the same as Shabana's, with the exception that here we use the angular velocity in global rather than local coordinates, leading to an extra factor of $\\b{A}$. The second expression can be show to be the same by expanding the derivative of the inertia tensor and multiplying out expression.\n",
      "\n",
      "The expression for $\\b{Q}_v^f$ differs from Shabana's, which is (using my notation):\n",
      "$$ \\b{Q}_v^f = - \\int \\left\\{ \\b{N}^T \\left[ \\b{\\tilde{\\Omega}\\tilde{\\Omega} X} + \n",
      "2 \\b{\\tilde{\\Omega} \\dot{X}} \\right] \\right\\} \\, \\mathrm{d}m $$\n",
      "This is clearly the same as the starting point for the derivation above. I don't understand why this part of the velocity-dependent force is not pushed through to be expressed in terms of the shape functions as demonstrated above.\n",
      "\n",
      "Lugris et al (2009) obtain a slightly different result for $\\b{Q}_v^f$ as they use a different formulation (both absolute coordinates, and relative coordinates with the local body origin instantaneously coincident with the global origin). Nonetheless the structure of the expression is very similar."
     ]
    },
    {
     "cell_type": "heading",
     "level": 2,
     "metadata": {},
     "source": [
      "External forces"
     ]
    },
    {
     "cell_type": "heading",
     "level": 3,
     "metadata": {},
     "source": [
      "Distributed forces"
     ]
    },
    {
     "cell_type": "markdown",
     "metadata": {},
     "source": [
      "We will find the generalised forces corresponding to a distributed force varying linearly across the element.\n",
      "\n",
      "The virtual work of a distributed force $\\b{F}_e$ defined in the body coordinate system is\n",
      "$$ \\delta W_e^j = \\int \\b{F}_e^T \\b{A}^T \\delta \\b{r} \\mathrm{d}x = \\b{Q}_e^T \\delta \\b{q} $$\n",
      "where the virtual displacement is\n",
      "$$ \\delta \\b{r} = \\b{L} \\delta \\b{q} $$\n",
      "so\n",
      "$$ \\b{Q}_e = \\int \\b{L}^T \\b{A} \\b{F}_e \\mathrm{d}x\n",
      "= \\int \\begin{bmatrix}\n",
      "\\b{A} \\b{F}_e  \\\\\n",
      "\\b{A \\tilde{X} F}_e  \\\\\n",
      "\\b{B}_2^T \\b{N}^T \\b{F}_e  \\\\\n",
      "\\end{bmatrix} \\mathrm{d}x\n",
      "= \\begin{bmatrix} \\b{Q}_e^R  \\\\  \\b{Q}_e^{\\omega}  \\\\  \\b{Q}_e^f  \\end{bmatrix}\n",
      "$$"
     ]
    },
    {
     "cell_type": "markdown",
     "metadata": {},
     "source": [
      "Let the force be defined by nodal values $\\b{P}_n$ (in the body coordinates) and interpolated by shape functions $\\b{N}_F$ (also in the body coordanates), so that the force in the body coordinates is\n",
      "$$ \\b{F}_e^j = \\b{N}_F^j \\b{P}_n^j$$\n",
      "\n",
      "Then\n",
      "$$ \\b{Q}_e^R = \\b{A} \\int \\b{N}_F \\mathrm{d}x \\, \\b{P}_n = \\b{A} \\b{S}_F \\b{P}_n $$\n",
      "where $\\b{S}_F = \\int \\b{N}_F \\mathrm{d}x = \\b{C}_X^j \\int \\b{\\hat N}_F^j \\mathrm{d}x \\, \\b{C}_q^j$, analagous to $\\sint$.\n",
      "\n",
      "The torque is\n",
      "$$ \\b{Q}_e^{\\omega} = \\b{A} \\int \\begin{bmatrix}\n",
      "X_2 \\b{N}_{F3} - X_3 \\b{N}_{F2}  \\\\\n",
      "X_3 \\b{N}_{F1} - X_1 \\b{N}_{F3}  \\\\\n",
      "X_1 \\b{N}_{F2} - X_2 \\b{N}_{F1}  \\end{bmatrix} \n",
      "\\mathrm{d}x \\, \\b{P}_n\n",
      "= \\b{A} \\begin{bmatrix}\n",
      "\\qn^T \\left( \\b{S}_{F_{23}} - \\b{S}_{F_{32}} \\right)  \\\\\n",
      "\\qn^T \\left( \\b{S}_{F_{31}} - \\b{S}_{F_{13}} \\right)  \\\\\n",
      "\\qn^T \\left( \\b{S}_{F_{12}} - \\b{S}_{F_{21}} \\right) \\end{bmatrix} \\b{P}_n\n",
      "$$\n",
      "where $\\sint_{F_{kl}} = \\int \\b{N}_k^T \\b{N}_{F_l} \\mathrm{d}x =\n",
      "\\b{C}_q^{jT} \\int \\b{\\hat N}_k^T \\b{\\hat N}_{F_l} \\mathrm{d}x \\, \\b{C}_q^j$, analagous to $\\sint_{kl}$.\n",
      "\n",
      "And the generalised stress is\n",
      "$$ \\b{Q}_e^f = \\b{B}_2^T \\int \\b{N}^T \\b{N}_F \\mathrm{d}x \\, \\b{P}_n = \n",
      "\\b{B}_2^T \\left( \\sint_{F_{11}} + \\sint_{F_{22}} + \\sint_{F_{33}} \\right) \\b{P}_n$$"
     ]
    },
    {
     "cell_type": "heading",
     "level": 3,
     "metadata": {},
     "source": [
      "Point forces"
     ]
    },
    {
     "cell_type": "markdown",
     "metadata": {},
     "source": [
      "For applied point forces $\\b{\\hat F}_e$, the generalised forces are\n",
      "\n",
      "$$ \\b{Q}_e = \\b{L}^T \\b{A} \\b{\\hat F}_e = \\begin{bmatrix}\n",
      "\\b{A} \\b{\\hat F}_e  \\\\\n",
      "\\b{A \\tilde{X} \\hat{F}}_e  \\\\\n",
      "\\b{B}_2^T \\b{N}^T \\b{\\hat F}_e  \\\\\n",
      "\\end{bmatrix} \n",
      "= \\begin{bmatrix} \\b{Q}_e^R  \\\\  \\b{Q}_e^{\\omega}  \\\\  \\b{Q}_e^f  \\end{bmatrix}\n",
      "$$"
     ]
    },
    {
     "cell_type": "heading",
     "level": 2,
     "metadata": {},
     "source": [
      "Required inputs"
     ]
    },
    {
     "cell_type": "markdown",
     "metadata": {},
     "source": [
      "The required inputs are the following total shape integrals: the mass $m$, $\\sint$, and $\\sint_{kl}$.\n",
      "\n",
      "These are found from the individual element shape integrals:\n",
      "\\begin{align}\n",
      "m          &= \\sum m^j      \\\\\n",
      "\\sint      &= \\sum \\sint^j  \\\\\n",
      "\\sint_{kl} &= \\sum \\sint_{kl}^j\n",
      "\\end{align}\n",
      "which in turn are defined as\n",
      "\\begin{align}\n",
      "m^j          &= \\int \\mathrm{d}m      \\\\\n",
      "\\sint^j      &= \\b{C}_X^j \\left( \\int \\b{\\hat N}^j \\mathrm{d}m \\right) \\b{C}_q^j \\b{B}_1^j  \\\\\n",
      "\\sint_{kl}^j &= \\b{B}_1^{jT} \\b{C}_q^{jT} \\left( \\int \\b{\\hat N}_k^{jT} \\b{\\hat N}_l^j \\mathrm{d}m \\right) \\b{C}_q^j \\b{B}_1^j\n",
      "\\end{align}\n",
      "where $\\b{\\hat N}_k^j$ is the $k$th row of the local element shape function for element $j$."
     ]
    },
    {
     "cell_type": "heading",
     "level": 2,
     "metadata": {},
     "source": [
      "Modal reduction"
     ]
    },
    {
     "cell_type": "markdown",
     "metadata": {},
     "source": [
      "The number of coordinates can be reduced using a modal reduction $\\b{B}_m$ such that\n",
      "$$ \\b{q}_f = \\b{B}_m \\b{p}_f $$\n",
      "i.e. replace every occurrence of $\\b{B}_2$ above with $\\b{B}_2 \\b{B}_m$."
     ]
    },
    {
     "cell_type": "markdown",
     "metadata": {},
     "source": [
      "Shabana suggests that the use of modal reduction should be completely transparent to the floating frame of reference implementation because the shape integrals can be transformed by a pre-processor. However, this doesn't work with all the occurrences of \"$\\qn^T \\sint_{kl}$\" above, since the untransformed shape integral is needed to go with the instantaneous nodal coordinates.\n",
      "\n",
      "One solution is to explicitly expand $\\qn$ to produce more shape integrals (1 undeflected, 1 half deflected).\n",
      "\n",
      "Another solution is to do the modal transformation in the floating frame of reference code by considering it analagous to $\\b{B}_2$. This is simpler in that it doesn't require writing out a bunch more equations, but probably slightly less efficient."
     ]
    }
   ],
   "metadata": {}
  }
 ]
}