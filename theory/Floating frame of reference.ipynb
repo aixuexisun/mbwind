{
 "metadata": {
  "name": ""
 },
 "nbformat": 3,
 "nbformat_minor": 0,
 "worksheets": [
  {
   "cells": [
    {
     "cell_type": "heading",
     "level": 2,
     "metadata": {},
     "source": [
      "Kinematics"
     ]
    },
    {
     "cell_type": "markdown",
     "metadata": {},
     "source": [
      "$ \\newcommand{\\b}[1]{\\boldsymbol{#1}} \\newcommand{\\bt}[1]{\\b{\\tilde{#1}}} $\n",
      "$ \\newcommand{\\sint}{\\b{S}} \\newcommand{\\qn}{\\b{q}_n} $\n",
      "In global coordinates, the position of a point on the body is\n",
      "\n",
      "$$ \\b{r} = \\b{R} + \\b{AX} $$\n",
      "\n",
      "where $\\b{R}$ is the position of the reference coordinate system, $\\b A$ is the transformation matrix from body to global coordinates, and $\\b X$ is the position of the point within the body coordinate system.\n",
      "\n",
      "Differentiating gives\n",
      "\\begin{align}\n",
      "\\b{\\dot r}  &= \\b{\\dot  R} + \\b{\\tilde{\\omega}} \\b{AX} + \\b{A \\dot{X}} \\\\\n",
      "\\b{\\ddot r} &= \\b{\\ddot R} + \\left( \\b{\\tilde{\\omega}\\tilde{\\omega}} + \\b{\\dot{\\tilde{\\omega}}} \\right) \\b{AX} +\n",
      "  2 \\b{\\tilde{\\omega} A \\dot{X}} + \\b{A \\ddot{X}}\n",
      "\\end{align}\n",
      "\n",
      "where $\\b{\\omega}$ is the angular velocity of the body in the global frame, and the tilde indicates the skew-symmetric matrix giving the cross product, i.e. $\\b{\\tilde{a} b} = \\b{a} \\times \\b{b}$.\n",
      "\n",
      "The deformation of the flexible body is described by some finite element shape functions $\\b{N}^j$, so that within element $j$, the deformed position is $\\b{X} = \\b{N}^j \\b{q}_n^j$. The nodal coordinates consist of the values $\\b{q}_0$ in the undeflected state plus the deflections $\\b{\\bar{q}}_f$. The finite elements must be somehow attached to the reference coordinates, and this is described by a matrix $\\b{B_2}$ so that $\\b{\\bar{q}}_f = \\b{B_2} \\b{q}_f$.\n",
      "\n",
      "The generalised coordinate velocities of the body are $\\b{\\dot q}^T = \\begin{bmatrix}\n",
      "\\b{\\dot R}^T & \\b{\\omega}^T & \\b{q}_f^T \\end{bmatrix}$, so the velocity and acceleration of a point on the body can be written as\n",
      "\\begin{align}\n",
      "\\b{\\dot r}  &= \\b{L} \\b{\\dot q} \\\\\n",
      "\\b{\\ddot r} &= \\b{L} \\b{\\ddot q} + \\b{\\dot L} \\b{\\dot q}\n",
      "\\end{align}\n",
      "in which the matrix $\\b{L}$ and its derivative are defined as\n",
      "\\begin{align}\n",
      "\\b{L}      &= \\begin{bmatrix}  \\b{I}  &  -\\b{\\tilde{x}}                &  \\b{A N} \\b{B}_2         \\end{bmatrix}  \\\\\n",
      "\\b{\\dot L} &= \\begin{bmatrix}  \\b{0}  &  -\\b{\\tilde{\\omega}\\tilde{x}}  &  2\\b{\\tilde{\\omega} A N} \\b{B}_2  \\end{bmatrix}\n",
      "\\end{align}\n",
      "where $\\b{x} = \\b{AX}$ is the relative position of the point in the global coordinate system."
     ]
    },
    {
     "cell_type": "heading",
     "level": 3,
     "metadata": {},
     "source": [
      "Inertial forces"
     ]
    },
    {
     "cell_type": "markdown",
     "metadata": {},
     "source": [
      "The virtual work of the inertial forces on the body is\n",
      "$$ \\delta W_i = \\int \\delta\\b{r}^T \\b{\\ddot r} \\mathrm{d}m \n",
      "= \\delta\\b{q}^T \\int \\b{L}^T \\left( \\b{L} \\b{\\ddot q} + \\b{\\dot L} \\b{\\dot q} \\right) \\mathrm{d}m$$\n",
      "\n",
      "The first term leads to the mass matrix, while the second gives the velocity-dependent inertial forces."
     ]
    },
    {
     "cell_type": "heading",
     "level": 4,
     "metadata": {},
     "source": [
      "Mass matrix"
     ]
    },
    {
     "cell_type": "markdown",
     "metadata": {},
     "source": [
      "$$\n",
      "\\b{M} = \\int \\begin{bmatrix}\n",
      "\\b{I} & -\\b{\\tilde{x}}          &           \\b{A N}\\b{B}_2         \\\\\n",
      "\\cdot & -\\b{\\tilde{x}\\tilde{x}} & \\b{\\tilde{x} A N}\\b{B}_2         \\\\\n",
      "\\cdot &  \\cdot                  & \\b{B}_2^T \\b{N}^T \\b{N} \\b{B}_2\n",
      "\\end{bmatrix}\n",
      "\\,\\mathrm{d}m = \\begin{bmatrix}\n",
      "\\b{M}_{RR} & \\b{M}_{R\\omega}      & \\b{M}_{Rf}       \\\\\n",
      "\\cdot      & \\b{M}_{\\omega\\omega} & \\b{M}_{\\omega f} \\\\\n",
      "\\cdot      & \\cdot                & \\b{M}_{ff}\n",
      "\\end{bmatrix}\n",
      "$$"
     ]
    },
    {
     "cell_type": "markdown",
     "metadata": {},
     "source": [
      "The parts of the mass matrix are as follows.\n",
      "\n",
      "The first part is just the mass of the body:\n",
      "$$\\b{M}_{RR} = \\int \\mathrm{d}m \\, \\b{I}$$\n",
      "\n",
      "The part which couples translation and rotation of the reference is:\n",
      "$$\\b{M}_{R\\omega} = - \\int \\b{\\tilde{x}} \\mathrm{d}m = - \\b{\\tilde m} $$\n",
      "where $\\b{m} = \\b{A} \\int \\b{X} \\mathrm{d}m = \\b{A} \\sint \\b{q}_n$ and $\\sint$ is a constant integral, $\\sint = \\int \\b{N} \\mathrm{d}m$.\n",
      "\n",
      "The part which couples reference translation and the elastic deformation is:\n",
      "$$\\b{M}_{Rf} = \\b{A} \\int \\b{N} \\mathrm{d}m \\, \\b{B}_2\n",
      "= \\b{A} \\sint \\b{B}_2 $$\n",
      "\n",
      "The inertia tensor in global coordinates is:\n",
      "$$\\b{M}_{\\omega\\omega} = \\int \\b{\\tilde{x}}^T \\b{\\tilde{x}} \\mathrm{d}m\n",
      "= \\b{A} \\int \\b{\\tilde{X}}^T \\b{\\tilde{X}} \\mathrm{d}m \\, \\b{A}^T\n",
      "= \\b{A} \\b{\\bar J} \\b{A}^T $$\n",
      "and by expanding the skew-symmetric matrices, the symmetric inertia tensor in body-fixed coordinates is:\n",
      "$$ \\b{\\bar J} = \\begin{bmatrix}\n",
      "\\qn^T \\left(\\sint_{22} + \\sint_{33}\\right) \\qn  &  -\\qn^T \\sint_{21} \\qn  &  -\\qn^T \\sint_{31} \\qn  \\\\\n",
      "\\cdot  &  \\qn^T \\left(\\sint_{33} + \\sint_{11}\\right) \\qn  &  -\\qn^T \\sint_{32} \\qn    \\\\\n",
      "\\cdot  &  \\cdot  &  \\qn^T \\left(\\sint_{11} + \\sint_{22}\\right) \\qn\n",
      "\\end{bmatrix} $$\n",
      "where $\\sint_{kl}$ is another constant integral, $\\sint_{kl} = \\int \\b{N}_k^T \\b{N}_l \\mathrm{d}m$.\n",
      "\n",
      "The part which couples reference rotation and the elastic deformation is:\n",
      "$$\\b{M}_{\\omega f} = \\b{A} \\int \\b{\\tilde{X} N} \\mathrm{d}m \\, \\b{B}_2\n",
      "= \\b{A} \\int \\begin{bmatrix}\n",
      "X_2 \\b{N}_3 - X_3 \\b{N}_2  \\\\\n",
      "X_3 \\b{N}_1 - X_1 \\b{N}_3  \\\\\n",
      "X_1 \\b{N}_2 - X_2 \\b{N}_1  \\end{bmatrix} \\mathrm{d}m \\, \\b{B}_2 \n",
      "= \\b{A} \\begin{bmatrix}\n",
      "\\qn^T \\b{\\hat{S}}_{23}  \\\\\n",
      "\\qn^T \\b{\\hat{S}}_{31}  \\\\\n",
      "\\qn^T \\b{\\hat{S}}_{12}  \\end{bmatrix} \\b{B}_2 \n",
      "$$\n",
      "where $\\b{N}_i$ and $X_j$ are the $i$th row of $\\b{N}$ and the $j$th element of $\\b{X}$ respectively, and $\\b{\\hat{S}}_{kl} = \\left( \\sint_{kl} - \\sint_{kl}^T \\right)$\n",
      "\n",
      "Finally the part relating to the elastic deformations is\n",
      "$$\\b{M}_{ff} = \\b{B}_2^T \\int \\b{N}^T \\b{N} \\mathrm{d}m \\, \\b{B}_2\n",
      "= \\b{B}_2^T \\left( \\sint_{11} + \\sint_{22} + \\sint_{33} \\right) \\b{B}_2 $$\n",
      "\n",
      "These expressions are all identical to those in Shabana (2005), apart from the use of $\\b{B}_2$ to describe the reference conditions (Shabana, 2012)."
     ]
    },
    {
     "cell_type": "heading",
     "level": 4,
     "metadata": {},
     "source": [
      "Velocity-dependent forces"
     ]
    },
    {
     "cell_type": "markdown",
     "metadata": {},
     "source": [
      "The velocity-dependent forces are given by\n",
      "\n",
      "$$ \\b{Q}_v \n",
      "= \\begin{bmatrix} \\b{Q}_v^R \\\\ \\b{Q}_v^{\\omega} \\\\ \\b{Q}_v^f \\end{bmatrix}\n",
      "= -\\int \\b{L}^T \\left( \\b{\\dot{L} \\dot{q}} \\right) \\mathrm{d}m\n",
      "= \\int \\begin{bmatrix}\n",
      "\\b{\\tilde{\\omega}\\tilde{x}\\omega} - 2 \\b{\\tilde{\\omega} A \\dot{X}}  \\\\\n",
      "-\\b{\\tilde{x}}^T \\b{\\tilde{\\omega}\\tilde{x}\\omega} - 2 \\b{\\tilde{x}\\tilde{\\omega} A \\dot{X}}  \\\\\n",
      "\\left(\\b{A N} \\b{B}_2\\right)^T \\b{\\tilde{\\omega}\\tilde{x}\\omega} - 2 \\left(\\b{A N} \\b{B}_2\\right)^T \\b{\\tilde{\\omega} A N} \\b{B}_2 \\b{\\dot q}_f\n",
      "\\end{bmatrix} \\mathrm{d}m\n",
      "$$"
     ]
    },
    {
     "cell_type": "markdown",
     "metadata": {},
     "source": [
      "From the results above, the first part is\n",
      "$$ \\b{Q}_v^R = \\b{\\tilde{\\omega} \\tilde{m} \\omega} - \n",
      "2\\b{\\tilde{\\omega} A S}\\b{B}_2 \\b{\\dot q}_f$$\n",
      "\n",
      "To find $\\b{Q}_v^{\\omega}$, we make use of the identity that for two vectors $\\bt{a}^T \\bt{b} \\bt{a} \\b{b} = \\bt{b} \\bt{a}^T \\bt{a} \\b{b}$, so that \n",
      "$\\int \\b{\\tilde{x}}^T \\b{\\tilde{\\omega}\\tilde{x}\\omega} \\, \\mathrm{d}m = \n",
      "\\int \\b{\\tilde{\\omega}\\tilde{x}}^T \\b{\\tilde{x}\\omega} \\, \\mathrm{d}m = \n",
      "\\b{\\tilde{\\omega}J\\omega} =\n",
      "\\b{A \\tilde{\\Omega}\\bar{J}\\Omega}$. \n",
      "For the second term, rewrite it using the position and angular velocity in the local frame to give \n",
      "$2 \\b{\\tilde{x}\\tilde{\\omega} A \\dot{X}} =\n",
      "2 \\b{A \\tilde{X}\\tilde{\\Omega} \\dot{X}}$. The integral of this may be expanded as\n",
      "$$\n",
      "\\newcommand{\\crosscrossmatrix}[2]{\\begin{bmatrix}\n",
      "-#1_2 #2_2 - #1_3 #2_3  &   #1_2 #2_1              &  #1_3 #2_1              \\\\\n",
      " #1_1 #2_2              &  -#1_3 #2_3 - #1_1 #2_1  &  #1_3 #2_2              \\\\\n",
      " #1_1 #2_3              &   #1_2 #2_3              & -#1_1 #2_1 - #1_2 #2_2  \\\\\n",
      "\\end{bmatrix}}\n",
      "\\begin{align}\n",
      "\\int \\b{\\tilde{X}\\tilde{\\Omega} N} \\, \\mathrm{d}m &=\n",
      "\\int \\crosscrossmatrix{X}{\\Omega} \\b{N} \\mathrm{d}m  \\\\\n",
      "&= \\int \\begin{bmatrix} \n",
      "\\Omega_1 \\left( X_2 \\b{N}_2 + X_3 \\b{N}_3 \\right) - \\Omega_2 X_2 \\b{N}_1 - \\Omega_3 X_3 \\b{N}_1  \\\\\n",
      "\\Omega_2 \\left( X_3 \\b{N}_3 + X_1 \\b{N}_1 \\right) - \\Omega_3 X_3 \\b{N}_2 - \\Omega_1 X_1 \\b{N}_2  \\\\\n",
      "\\Omega_2 \\left( X_1 \\b{N}_1 + X_2 \\b{N}_2 \\right) - \\Omega_1 X_1 \\b{N}_3 - \\Omega_2 X_2 \\b{N}_3  \\\\\n",
      "\\end{bmatrix} \\mathrm{d}m  \\\\\n",
      "&= \\begin{bmatrix} \n",
      "\\qn^T \\left( \\Omega_1 \\left( \\sint_{22} + \\sint_{33} \\right) - \\Omega_2 \\sint_{21} - \\Omega_3 \\sint_{31} \\right) \\\\\n",
      "\\qn^T \\left( \\Omega_2 \\left( \\sint_{33} + \\sint_{11} \\right) - \\Omega_3 \\sint_{32} - \\Omega_1 \\sint_{12} \\right) \\\\\n",
      "\\qn^T \\left( \\Omega_3 \\left( \\sint_{11} + \\sint_{22} \\right) - \\Omega_1 \\sint_{13} - \\Omega_2 \\sint_{23} \\right) \\\\\n",
      "\\end{bmatrix} \\\\\n",
      "&= \\b{I}_{\\omega f}^{\\prime}\n",
      "\\end{align}\n",
      "$$\n",
      "\n",
      "So the second part of $\\b{Q}_v$ is\n",
      "$$ \\b{Q}_v^{\\omega} = \\begin{bmatrix}\n",
      "\\b{0} & -\\b{\\tilde{\\omega}J} & -2\\b{A}\\b{I}_{\\omega f}^{\\prime}\\b{B}_2\n",
      "\\end{bmatrix} \\b{\\dot q} $$\n",
      "\n",
      "To find $\\b{Q}_v^f$, note that the first term is the transpose of the second term in $\\b{Q}_v^{\\omega}$. The second term expands to $2 \\b{B}_2^T \\b{N}^T \\b{A}^T \\b{\\tilde{\\omega} A N} \\b{B}_2 = 2 \\b{B}_2^T \\b{N}^T \\b{\\tilde{\\Omega} N} \\b{B}_2$, for which the following integral is needed:\n",
      "$$\n",
      "-\\int \\b{N}^T \\b{\\tilde{\\Omega} N} \\,\\mathrm{d}m =\n",
      "-\\int \\b{N}^T \\begin{bmatrix}\n",
      "\\Omega_2 \\b{N}_3 - \\Omega_3 \\b{N}_2 \\\\\n",
      "\\Omega_3 \\b{N}_1 - \\Omega_1 \\b{N}_3 \\\\\n",
      "\\Omega_1 \\b{N}_2 - \\Omega_2 \\b{N}_1 \\end{bmatrix} =\n",
      "\\Omega_1 \\b{\\hat{S}}_{23} + \\Omega_2 \\b{\\hat{S}}_{31} + \\Omega_3 \\b{\\hat{S}}_{12}\n",
      "$$\n",
      "\n",
      "So the third part of $\\b{Q}_v$ is\n",
      "$$ \\b{Q}_v^f = \\begin{bmatrix}\n",
      "\\b{0} & \\b{B}_2^T \\b{I}_{\\omega f}^{\\prime T} \\b{A}^T  &  2 \\b{B}_2^T \\left(\\Omega_1 \\b{\\hat{S}}_{23} + \\Omega_2 \\b{\\hat{S}}_{31} + \\Omega_3 \\b{\\hat{S}}_{12}\\right) \\b{B}_2\n",
      "\\end{bmatrix} \\b{\\dot q} $$\n"
     ]
    },
    {
     "cell_type": "heading",
     "level": 5,
     "metadata": {},
     "source": [
      "Comparison with other references"
     ]
    },
    {
     "cell_type": "markdown",
     "metadata": {},
     "source": [
      "Together, the above expressions for the velocity dependent forces are:\n",
      "\\begin{align}\n",
      "\\b{Q}_v^R        &= \\b{\\tilde{\\omega} \\tilde{m} \\omega} - 2\\b{\\tilde{\\omega} A S}\\b{B}_2 \\b{\\dot q}_f  \\\\\n",
      "\\b{Q}_v^{\\omega} &= -\\b{\\tilde{\\omega}J\\omega} - 2\\b{A}\\b{I}_{\\omega f}^{\\prime}\\b{B}_2 \\b{\\dot q}_f  \\\\\n",
      "\\b{Q}_v^f        &= \\b{B}_2^T \\left[ \\b{I}_{\\omega f}^{\\prime T} \\b{A}^T \\b{\\omega}  +  2 \\left(\\Omega_1 \\b{\\hat{S}}_{23} + \\Omega_2 \\b{\\hat{S}}_{31} + \\Omega_3 \\b{\\hat{S}}_{12}\\right) \\b{B}_2 \\b{\\dot q}_f \\right]\n",
      "\\end{align}"
     ]
    },
    {
     "cell_type": "markdown",
     "metadata": {},
     "source": [
      "The expression for $\\b{Q}_v^R$ is clearly the same as Shabana (2005) and Lugris et al (2009). Shabana's expressions for $\\b{Q}_v^{\\omega}$ are slightly different as they are written in terms of the Euler parameters rather than the angular velocities. Lugris et al use the global origin as the body coordinate system origin, leading to The first term of $\\b{Q}_v^{\\omega}$ is the same as Lugris et al. "
     ]
    },
    {
     "cell_type": "code",
     "collapsed": false,
     "input": [],
     "language": "python",
     "metadata": {},
     "outputs": []
    },
    {
     "cell_type": "code",
     "collapsed": false,
     "input": [],
     "language": "python",
     "metadata": {},
     "outputs": []
    }
   ],
   "metadata": {}
  }
 ]
}